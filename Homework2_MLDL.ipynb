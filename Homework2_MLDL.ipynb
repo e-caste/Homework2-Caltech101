{
 "nbformat": 4,
 "nbformat_minor": 0,
 "metadata": {
  "colab": {
   "name": "Homework2-MLDL.ipynb",
   "provenance": [],
   "collapsed_sections": [],
   "toc_visible": true
  },
  "kernelspec": {
   "name": "python3",
   "language": "python",
   "display_name": "Python 3"
  },
  "accelerator": "GPU"
 },
 "cells": [
  {
   "cell_type": "markdown",
   "source": [
    "**Import libraries**"
   ],
   "metadata": {
    "collapsed": false
   }
  },
  {
   "cell_type": "code",
   "metadata": {
    "id": "DokFOdD1dJEl"
   },
   "source": [
    "import os\n",
    "import logging\n",
    "\n",
    "import torch\n",
    "import torch.nn as nn\n",
    "import torch.optim as optim\n",
    "from torch.utils.data import Subset, DataLoader\n",
    "from torch.backends import cudnn\n",
    "\n",
    "import torchvision\n",
    "from torchvision import transforms\n",
    "from torchvision.models import alexnet\n",
    "\n",
    "from tqdm import tqdm"
   ],
   "execution_count": 1,
   "outputs": []
  },
  {
   "cell_type": "markdown",
   "metadata": {
    "id": "OIDLJuIXK_vh"
   },
   "source": [
    "**Set Arguments**"
   ]
  },
  {
   "cell_type": "code",
   "metadata": {
    "id": "d5PkYfqfK_SA"
   },
   "source": [
    "DEVICE = 'cuda' # 'cuda' or 'cpu'\n",
    "\n",
    "NUM_CLASSES = 102 # 101 + 1: There is am extra Background class that should be removed \n",
    "\n",
    "BATCH_SIZE = 256     # Higher batch sizes allows for larger learning rates. An empirical heuristic suggests that, when changing\n",
    "                     # the batch size, learning rate should change by the same factor to have comparable results\n",
    "\n",
    "LR = 1e-3            # The initial Learning Rate\n",
    "MOMENTUM = 0.9       # Hyperparameter for SGD, keep this at 0.9 when using SGD\n",
    "WEIGHT_DECAY = 5e-5  # Regularization, you can keep this at the default\n",
    "\n",
    "NUM_EPOCHS = 30      # Total number of training epochs (iterations over dataset)\n",
    "STEP_SIZE = 20       # How many epochs before decreasing learning rate (if using a step-down policy)\n",
    "GAMMA = 0.1          # Multiplicative factor for learning rate step-down\n",
    "\n",
    "LOG_FREQUENCY = 10"
   ],
   "execution_count": 2,
   "outputs": []
  },
  {
   "cell_type": "markdown",
   "metadata": {
    "id": "9gwii0TBHvzh"
   },
   "source": [
    "**Define Data Preprocessing**"
   ]
  },
  {
   "cell_type": "code",
   "metadata": {
    "id": "QUDdw4j2H0Mc"
   },
   "source": [
    "# Define transforms for training phase\n",
    "train_transform = transforms.Compose([transforms.Resize(256),      # Resizes short size of the PIL image to 256\n",
    "                                      transforms.CenterCrop(224),  # Crops a central square patch of the image\n",
    "                                                                   # 224 because torchvision's AlexNet needs a 224x224 input!\n",
    "                                                                   # Remember this when applying different transformations, otherwise you get an error\n",
    "                                      transforms.ToTensor(), # Turn PIL Image to torch.Tensor\n",
    "                                      transforms.Normalize((0.5, 0.5, 0.5), (0.5, 0.5, 0.5)) # Normalizes tensor with mean and standard deviation\n",
    "])\n",
    "# Define transforms for the evaluation phase\n",
    "eval_transform = transforms.Compose([transforms.Resize(256),\n",
    "                                      transforms.CenterCrop(224),\n",
    "                                      transforms.ToTensor(),\n",
    "                                      transforms.Normalize((0.5, 0.5, 0.5), (0.5, 0.5, 0.5))                                    \n",
    "])"
   ],
   "execution_count": 3,
   "outputs": []
  },
  {
   "cell_type": "markdown",
   "metadata": {
    "id": "2qYIHPzYLY7i"
   },
   "source": [
    "**Prepare Dataset**"
   ]
  },
  {
   "cell_type": "code",
   "metadata": {
    "id": "QfVq_uDHLbsR",
    "outputId": "af2136aa-db20-43e9-8d77-502a323b9484",
    "colab": {
     "base_uri": "https://localhost:8080/",
     "height": 375
    }
   },
   "source": [
    "DATA_DIR = './101_ObjectCategories'\n",
    "from caltech_dataset import Caltech\n",
    "\n",
    "# Prepare Pytorch train/test Datasets\n",
    "train_dataset = Caltech(DATA_DIR, split='train',  transform=train_transform)\n",
    "test_dataset = Caltech(DATA_DIR, split='test', transform=eval_transform)\n",
    "\n",
    "# since classes are contiguous in the dataset, this should split the train dataset in half by class as well\n",
    "train_indexes = list(range(0, len(train_dataset), 2))  # split the indices for your train split\n",
    "val_indexes = list(range(1, len(train_dataset), 2))    # split the indices for your val split\n",
    "\n",
    "train_dataset = Subset(train_dataset, train_indexes)\n",
    "val_dataset = Subset(train_dataset, val_indexes)\n",
    "\n",
    "# Check dataset sizes\n",
    "print('Train Dataset: {}'.format(len(train_dataset)))\n",
    "print('Valid Dataset: {}'.format(len(val_dataset)))\n",
    "print('Test Dataset: {}'.format(len(test_dataset)))"
   ],
   "execution_count": null,
   "outputs": [
    {
     "output_type": "error",
     "ename": "FileNotFoundError",
     "evalue": "ignored",
     "traceback": [
      "\u001B[0;31m---------------------------------------------------------------------------\u001B[0m",
      "\u001B[0;31mFileNotFoundError\u001B[0m                         Traceback (most recent call last)",
      "\u001B[0;32m<ipython-input-7-0f3dc8f8d313>\u001B[0m in \u001B[0;36m<module>\u001B[0;34m()\u001B[0m\n\u001B[1;32m      7\u001B[0m \u001B[0;34m\u001B[0m\u001B[0m\n\u001B[1;32m      8\u001B[0m \u001B[0;31m# Prepare Pytorch train/test Datasets\u001B[0m\u001B[0;34m\u001B[0m\u001B[0;34m\u001B[0m\u001B[0;34m\u001B[0m\u001B[0m\n\u001B[0;32m----> 9\u001B[0;31m \u001B[0mtrain_dataset\u001B[0m \u001B[0;34m=\u001B[0m \u001B[0mtorchvision\u001B[0m\u001B[0;34m.\u001B[0m\u001B[0mdatasets\u001B[0m\u001B[0;34m.\u001B[0m\u001B[0mImageFolder\u001B[0m\u001B[0;34m(\u001B[0m\u001B[0mDATA_DIR\u001B[0m\u001B[0;34m,\u001B[0m \u001B[0mtransform\u001B[0m\u001B[0;34m=\u001B[0m\u001B[0mtrain_transform\u001B[0m\u001B[0;34m)\u001B[0m\u001B[0;34m\u001B[0m\u001B[0;34m\u001B[0m\u001B[0m\n\u001B[0m\u001B[1;32m     10\u001B[0m \u001B[0mtest_dataset\u001B[0m \u001B[0;34m=\u001B[0m \u001B[0mtorchvision\u001B[0m\u001B[0;34m.\u001B[0m\u001B[0mdatasets\u001B[0m\u001B[0;34m.\u001B[0m\u001B[0mImageFolder\u001B[0m\u001B[0;34m(\u001B[0m\u001B[0mDATA_DIR\u001B[0m\u001B[0;34m,\u001B[0m \u001B[0mtransform\u001B[0m\u001B[0;34m=\u001B[0m\u001B[0meval_transform\u001B[0m\u001B[0;34m)\u001B[0m\u001B[0;34m\u001B[0m\u001B[0;34m\u001B[0m\u001B[0m\n\u001B[1;32m     11\u001B[0m \u001B[0;34m\u001B[0m\u001B[0m\n",
      "\u001B[0;32m/usr/local/lib/python3.6/dist-packages/torchvision/datasets/folder.py\u001B[0m in \u001B[0;36m__init__\u001B[0;34m(self, root, transform, target_transform, loader, is_valid_file)\u001B[0m\n\u001B[1;32m    207\u001B[0m                                           \u001B[0mtransform\u001B[0m\u001B[0;34m=\u001B[0m\u001B[0mtransform\u001B[0m\u001B[0;34m,\u001B[0m\u001B[0;34m\u001B[0m\u001B[0;34m\u001B[0m\u001B[0m\n\u001B[1;32m    208\u001B[0m                                           \u001B[0mtarget_transform\u001B[0m\u001B[0;34m=\u001B[0m\u001B[0mtarget_transform\u001B[0m\u001B[0;34m,\u001B[0m\u001B[0;34m\u001B[0m\u001B[0;34m\u001B[0m\u001B[0m\n\u001B[0;32m--> 209\u001B[0;31m                                           is_valid_file=is_valid_file)\n\u001B[0m\u001B[1;32m    210\u001B[0m         \u001B[0mself\u001B[0m\u001B[0;34m.\u001B[0m\u001B[0mimgs\u001B[0m \u001B[0;34m=\u001B[0m \u001B[0mself\u001B[0m\u001B[0;34m.\u001B[0m\u001B[0msamples\u001B[0m\u001B[0;34m\u001B[0m\u001B[0;34m\u001B[0m\u001B[0m\n",
      "\u001B[0;32m/usr/local/lib/python3.6/dist-packages/torchvision/datasets/folder.py\u001B[0m in \u001B[0;36m__init__\u001B[0;34m(self, root, loader, extensions, transform, target_transform, is_valid_file)\u001B[0m\n\u001B[1;32m     91\u001B[0m         super(DatasetFolder, self).__init__(root, transform=transform,\n\u001B[1;32m     92\u001B[0m                                             target_transform=target_transform)\n\u001B[0;32m---> 93\u001B[0;31m         \u001B[0mclasses\u001B[0m\u001B[0;34m,\u001B[0m \u001B[0mclass_to_idx\u001B[0m \u001B[0;34m=\u001B[0m \u001B[0mself\u001B[0m\u001B[0;34m.\u001B[0m\u001B[0m_find_classes\u001B[0m\u001B[0;34m(\u001B[0m\u001B[0mself\u001B[0m\u001B[0;34m.\u001B[0m\u001B[0mroot\u001B[0m\u001B[0;34m)\u001B[0m\u001B[0;34m\u001B[0m\u001B[0;34m\u001B[0m\u001B[0m\n\u001B[0m\u001B[1;32m     94\u001B[0m         \u001B[0msamples\u001B[0m \u001B[0;34m=\u001B[0m \u001B[0mmake_dataset\u001B[0m\u001B[0;34m(\u001B[0m\u001B[0mself\u001B[0m\u001B[0;34m.\u001B[0m\u001B[0mroot\u001B[0m\u001B[0;34m,\u001B[0m \u001B[0mclass_to_idx\u001B[0m\u001B[0;34m,\u001B[0m \u001B[0mextensions\u001B[0m\u001B[0;34m,\u001B[0m \u001B[0mis_valid_file\u001B[0m\u001B[0;34m)\u001B[0m\u001B[0;34m\u001B[0m\u001B[0;34m\u001B[0m\u001B[0m\n\u001B[1;32m     95\u001B[0m         \u001B[0;32mif\u001B[0m \u001B[0mlen\u001B[0m\u001B[0;34m(\u001B[0m\u001B[0msamples\u001B[0m\u001B[0;34m)\u001B[0m \u001B[0;34m==\u001B[0m \u001B[0;36m0\u001B[0m\u001B[0;34m:\u001B[0m\u001B[0;34m\u001B[0m\u001B[0;34m\u001B[0m\u001B[0m\n",
      "\u001B[0;32m/usr/local/lib/python3.6/dist-packages/torchvision/datasets/folder.py\u001B[0m in \u001B[0;36m_find_classes\u001B[0;34m(self, dir)\u001B[0m\n\u001B[1;32m    120\u001B[0m         \u001B[0;32mif\u001B[0m \u001B[0msys\u001B[0m\u001B[0;34m.\u001B[0m\u001B[0mversion_info\u001B[0m \u001B[0;34m>=\u001B[0m \u001B[0;34m(\u001B[0m\u001B[0;36m3\u001B[0m\u001B[0;34m,\u001B[0m \u001B[0;36m5\u001B[0m\u001B[0;34m)\u001B[0m\u001B[0;34m:\u001B[0m\u001B[0;34m\u001B[0m\u001B[0;34m\u001B[0m\u001B[0m\n\u001B[1;32m    121\u001B[0m             \u001B[0;31m# Faster and available in Python 3.5 and above\u001B[0m\u001B[0;34m\u001B[0m\u001B[0;34m\u001B[0m\u001B[0;34m\u001B[0m\u001B[0m\n\u001B[0;32m--> 122\u001B[0;31m             \u001B[0mclasses\u001B[0m \u001B[0;34m=\u001B[0m \u001B[0;34m[\u001B[0m\u001B[0md\u001B[0m\u001B[0;34m.\u001B[0m\u001B[0mname\u001B[0m \u001B[0;32mfor\u001B[0m \u001B[0md\u001B[0m \u001B[0;32min\u001B[0m \u001B[0mos\u001B[0m\u001B[0;34m.\u001B[0m\u001B[0mscandir\u001B[0m\u001B[0;34m(\u001B[0m\u001B[0mdir\u001B[0m\u001B[0;34m)\u001B[0m \u001B[0;32mif\u001B[0m \u001B[0md\u001B[0m\u001B[0;34m.\u001B[0m\u001B[0mis_dir\u001B[0m\u001B[0;34m(\u001B[0m\u001B[0;34m)\u001B[0m\u001B[0;34m]\u001B[0m\u001B[0;34m\u001B[0m\u001B[0;34m\u001B[0m\u001B[0m\n\u001B[0m\u001B[1;32m    123\u001B[0m         \u001B[0;32melse\u001B[0m\u001B[0;34m:\u001B[0m\u001B[0;34m\u001B[0m\u001B[0;34m\u001B[0m\u001B[0m\n\u001B[1;32m    124\u001B[0m             \u001B[0mclasses\u001B[0m \u001B[0;34m=\u001B[0m \u001B[0;34m[\u001B[0m\u001B[0md\u001B[0m \u001B[0;32mfor\u001B[0m \u001B[0md\u001B[0m \u001B[0;32min\u001B[0m \u001B[0mos\u001B[0m\u001B[0;34m.\u001B[0m\u001B[0mlistdir\u001B[0m\u001B[0;34m(\u001B[0m\u001B[0mdir\u001B[0m\u001B[0;34m)\u001B[0m \u001B[0;32mif\u001B[0m \u001B[0mos\u001B[0m\u001B[0;34m.\u001B[0m\u001B[0mpath\u001B[0m\u001B[0;34m.\u001B[0m\u001B[0misdir\u001B[0m\u001B[0;34m(\u001B[0m\u001B[0mos\u001B[0m\u001B[0;34m.\u001B[0m\u001B[0mpath\u001B[0m\u001B[0;34m.\u001B[0m\u001B[0mjoin\u001B[0m\u001B[0;34m(\u001B[0m\u001B[0mdir\u001B[0m\u001B[0;34m,\u001B[0m \u001B[0md\u001B[0m\u001B[0;34m)\u001B[0m\u001B[0;34m)\u001B[0m\u001B[0;34m]\u001B[0m\u001B[0;34m\u001B[0m\u001B[0;34m\u001B[0m\u001B[0m\n",
      "\u001B[0;31mFileNotFoundError\u001B[0m: [Errno 2] No such file or directory: 'Homework2-Caltech101/101_ObjectCategories'"
     ]
    }
   ]
  },
  {
   "cell_type": "markdown",
   "metadata": {
    "id": "FYEDQ7Z21ldN"
   },
   "source": [
    "**Prepare Dataloaders**"
   ]
  },
  {
   "cell_type": "code",
   "metadata": {
    "id": "VriRw8SI1nle"
   },
   "source": [
    "# Dataloaders iterate over pytorch datasets and transparently provide useful functions (e.g. parallelization and shuffling)\n",
    "train_dataloader = DataLoader(train_dataset, batch_size=BATCH_SIZE, shuffle=True, num_workers=4, drop_last=True)\n",
    "val_dataloader = DataLoader(val_dataset, batch_size=BATCH_SIZE, shuffle=False, num_workers=4)\n",
    "\n",
    "test_dataloader = DataLoader(test_dataset, batch_size=BATCH_SIZE, shuffle=False, num_workers=4)"
   ],
   "execution_count": null,
   "outputs": []
  },
  {
   "cell_type": "markdown",
   "metadata": {
    "id": "gbZ1t5Qs2z4j"
   },
   "source": [
    "**Prepare Network**"
   ]
  },
  {
   "cell_type": "code",
   "metadata": {
    "id": "exHUjtXa22DN"
   },
   "source": [
    "net = alexnet() # Loading AlexNet model\n",
    "\n",
    "# AlexNet has 1000 output neurons, corresponding to the 1000 ImageNet's classes\n",
    "# We need 101 outputs for Caltech-101\n",
    "net.classifier[6] = nn.Linear(4096, NUM_CLASSES) # nn.Linear in pytorch is a fully connected layer\n",
    "                                                 # The convolutional layer is nn.Conv2d\n",
    "\n",
    "# We just changed the last layer of AlexNet with a new fully connected layer with 101 outputs\n",
    "# It is strongly suggested to study torchvision.models.alexnet source code"
   ],
   "execution_count": null,
   "outputs": []
  },
  {
   "cell_type": "markdown",
   "metadata": {
    "id": "KEyL3H_R4qCf"
   },
   "source": [
    "**Prepare Training**"
   ]
  },
  {
   "cell_type": "code",
   "metadata": {
    "id": "9sjq00G94tSc"
   },
   "source": [
    "# Define loss function\n",
    "criterion = nn.CrossEntropyLoss() # for classification, we use Cross Entropy\n",
    "\n",
    "# Choose parameters to optimize\n",
    "# To access a different set of parameters, you have to access submodules of AlexNet\n",
    "# (nn.Module objects, like AlexNet, implement the Composite Pattern)\n",
    "# e.g.: parameters of the fully connected layers: net.classifier.parameters()\n",
    "# e.g.: parameters of the convolutional layers: look at alexnet's source code ;) \n",
    "parameters_to_optimize = net.parameters() # In this case we optimize over all the parameters of AlexNet\n",
    "\n",
    "# Define optimizer\n",
    "# An optimizer updates the weights based on loss\n",
    "# We use SGD with momentum\n",
    "optimizer = optim.SGD(parameters_to_optimize, lr=LR, momentum=MOMENTUM, weight_decay=WEIGHT_DECAY)\n",
    "\n",
    "# Define scheduler\n",
    "# A scheduler dynamically changes learning rate\n",
    "# The most common schedule is the step(-down), which multiplies learning rate by gamma every STEP_SIZE epochs\n",
    "scheduler = optim.lr_scheduler.StepLR(optimizer, step_size=STEP_SIZE, gamma=GAMMA)"
   ],
   "execution_count": null,
   "outputs": []
  },
  {
   "cell_type": "markdown",
   "metadata": {
    "id": "AxYUli9d9uYQ"
   },
   "source": [
    "**Train**"
   ]
  },
  {
   "cell_type": "code",
   "metadata": {
    "id": "ZcoQ5fD49yT_"
   },
   "source": [
    "# By default, everything is loaded to cpu\n",
    "net = net.to(DEVICE) # this will bring the network to GPU if DEVICE is cuda\n",
    "\n",
    "cudnn.benchmark # Calling this optimizes runtime\n",
    "\n",
    "current_step = 0\n",
    "# Start iterating over the epochs\n",
    "for epoch in range(NUM_EPOCHS):\n",
    "  print('Starting epoch {}/{}, LR = {}'.format(epoch+1, NUM_EPOCHS, scheduler.get_lr()))\n",
    "\n",
    "  # Iterate over the dataset\n",
    "  for images, labels in train_dataloader:\n",
    "    # Bring data over the device of choice\n",
    "    images = images.to(DEVICE)\n",
    "    labels = labels.to(DEVICE)\n",
    "\n",
    "    net.train() # Sets module in training mode\n",
    "\n",
    "    # PyTorch, by default, accumulates gradients after each backward pass\n",
    "    # We need to manually set the gradients to zero before starting a new iteration\n",
    "    optimizer.zero_grad() # Zero-ing the gradients\n",
    "\n",
    "    # Forward pass to the network\n",
    "    outputs = net(images)\n",
    "\n",
    "    # Compute loss based on output and ground truth\n",
    "    loss = criterion(outputs, labels)\n",
    "\n",
    "    # Log loss\n",
    "    if current_step % LOG_FREQUENCY == 0:\n",
    "      print('Step {}, Loss {}'.format(current_step, loss.item()))\n",
    "\n",
    "    # Compute gradients for each layer and update weights\n",
    "    loss.backward()  # backward pass: computes gradients\n",
    "    optimizer.step() # update weights based on accumulated gradients\n",
    "\n",
    "    current_step += 1\n",
    "\n",
    "  # Step the scheduler\n",
    "  scheduler.step() "
   ],
   "execution_count": null,
   "outputs": []
  },
  {
   "cell_type": "markdown",
   "metadata": {
    "id": "UsHFI-GAJd69"
   },
   "source": [
    "**Validation**"
   ]
  },
  {
   "cell_type": "code",
   "metadata": {
    "id": "EO3HV5pqJg1o"
   },
   "source": [
    "net = net.to(DEVICE) # this will bring the network to GPU if DEVICE is cuda\n",
    "net.train(False) # Set Network to evaluation mode\n",
    "\n",
    "running_corrects = 0\n",
    "for images, labels in tqdm(val_dataloader):\n",
    "  images = images.to(DEVICE)\n",
    "  labels = labels.to(DEVICE)\n",
    "\n",
    "  # Forward Pass\n",
    "  outputs = net(images)\n",
    "\n",
    "  # Get predictions\n",
    "  _, preds = torch.max(outputs.data, 1)\n",
    "\n",
    "  # Update Corrects\n",
    "  running_corrects += torch.sum(preds == labels.data).data.item()\n",
    "\n",
    "# Calculate Accuracy\n",
    "accuracy = running_corrects / float(len(val_dataset))\n",
    "\n",
    "print('Validation Accuracy: {}'.format(accuracy))"
   ],
   "execution_count": null,
   "outputs": []
  },
  {
   "cell_type": "markdown",
   "metadata": {
    "id": "jxekmR745ySe"
   },
   "source": [
    "**Test**"
   ]
  },
  {
   "cell_type": "code",
   "metadata": {
    "id": "fSHcUqLB5yWO"
   },
   "source": [
    "net = net.to(DEVICE) # this will bring the network to GPU if DEVICE is cuda\n",
    "net.train(False) # Set Network to evaluation mode\n",
    "\n",
    "running_corrects = 0\n",
    "for images, labels in tqdm(test_dataloader):\n",
    "  images = images.to(DEVICE)\n",
    "  labels = labels.to(DEVICE)\n",
    "\n",
    "  # Forward Pass\n",
    "  outputs = net(images)\n",
    "\n",
    "  # Get predictions\n",
    "  _, preds = torch.max(outputs.data, 1)\n",
    "\n",
    "  # Update Corrects\n",
    "  running_corrects += torch.sum(preds == labels.data).data.item()\n",
    "\n",
    "# Calculate Accuracy\n",
    "accuracy = running_corrects / float(len(test_dataset))\n",
    "\n",
    "print('Test Accuracy: {}'.format(accuracy))"
   ],
   "execution_count": null,
   "outputs": []
  }
 ]
}