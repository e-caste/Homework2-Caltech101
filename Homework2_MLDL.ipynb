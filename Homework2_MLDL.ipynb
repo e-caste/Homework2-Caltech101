{
 "nbformat": 4,
 "nbformat_minor": 0,
 "metadata": {
  "colab": {
   "name": "Homework2-MLDL.ipynb",
   "provenance": [],
   "collapsed_sections": [],
   "toc_visible": true
  },
  "kernelspec": {
   "name": "python3",
   "language": "python",
   "display_name": "Python 3"
  },
  "accelerator": "GPU"
 },
 "cells": [
  {
   "cell_type": "markdown",
   "source": [
    "**Import libraries**"
   ],
   "metadata": {
    "collapsed": false
   }
  },
  {
   "cell_type": "code",
   "metadata": {
    "id": "DokFOdD1dJEl"
   },
   "source": [
    "import os\n",
    "import logging\n",
    "\n",
    "import torch\n",
    "import torch.nn as nn\n",
    "import torch.optim as optim\n",
    "from torch.utils.data import Subset, DataLoader\n",
    "from torch.backends import cudnn\n",
    "\n",
    "import torchvision\n",
    "from torchvision import transforms\n",
    "from torchvision.models import alexnet\n",
    "\n",
    "from tqdm import tqdm"
   ],
   "execution_count": 10,
   "outputs": []
  },
  {
   "cell_type": "markdown",
   "metadata": {
    "id": "OIDLJuIXK_vh"
   },
   "source": [
    "**Set Arguments**"
   ]
  },
  {
   "cell_type": "code",
   "metadata": {
    "id": "d5PkYfqfK_SA"
   },
   "source": [
    "DEVICE = 'cuda' # 'cuda' or 'cpu'\n",
    "\n",
    "NUM_CLASSES = 102 # 101 + 1: There is am extra Background class that should be removed \n",
    "\n",
    "BATCH_SIZE = 256     # Higher batch sizes allows for larger learning rates. An empirical heuristic suggests that, when changing\n",
    "                     # the batch size, learning rate should change by the same factor to have comparable results\n",
    "\n",
    "LR = 1e-3            # The initial Learning Rate\n",
    "MOMENTUM = 0.9       # Hyperparameter for SGD, keep this at 0.9 when using SGD\n",
    "WEIGHT_DECAY = 5e-5  # Regularization, you can keep this at the default\n",
    "\n",
    "NUM_EPOCHS = 30      # Total number of training epochs (iterations over dataset)\n",
    "STEP_SIZE = 20       # How many epochs before decreasing learning rate (if using a step-down policy)\n",
    "GAMMA = 0.1          # Multiplicative factor for learning rate step-down\n",
    "\n",
    "LOG_FREQUENCY = 10"
   ],
   "execution_count": 11,
   "outputs": []
  },
  {
   "cell_type": "markdown",
   "metadata": {
    "id": "9gwii0TBHvzh"
   },
   "source": [
    "**Define Data Preprocessing**"
   ]
  },
  {
   "cell_type": "code",
   "metadata": {
    "id": "QUDdw4j2H0Mc"
   },
   "source": [
    "# Define transforms for training phase\n",
    "train_transform = transforms.Compose([transforms.Resize(256),      # Resizes short size of the PIL image to 256\n",
    "                                      transforms.CenterCrop(224),  # Crops a central square patch of the image\n",
    "                                                                   # 224 because torchvision's AlexNet needs a 224x224 input!\n",
    "                                                                   # Remember this when applying different transformations, otherwise you get an error\n",
    "                                      transforms.ToTensor(), # Turn PIL Image to torch.Tensor\n",
    "                                      transforms.Normalize((0.5, 0.5, 0.5), (0.5, 0.5, 0.5)) # Normalizes tensor with mean and standard deviation\n",
    "])\n",
    "# Define transforms for the evaluation phase\n",
    "eval_transform = transforms.Compose([transforms.Resize(256),\n",
    "                                      transforms.CenterCrop(224),\n",
    "                                      transforms.ToTensor(),\n",
    "                                      transforms.Normalize((0.5, 0.5, 0.5), (0.5, 0.5, 0.5))                                    \n",
    "])"
   ],
   "execution_count": 12,
   "outputs": []
  },
  {
   "cell_type": "markdown",
   "metadata": {
    "id": "2qYIHPzYLY7i"
   },
   "source": [
    "**Prepare Dataset**"
   ]
  },
  {
   "cell_type": "code",
   "metadata": {
    "id": "QfVq_uDHLbsR",
    "outputId": "af2136aa-db20-43e9-8d77-502a323b9484",
    "colab": {
     "base_uri": "https://localhost:8080/",
     "height": 375
    }
   },
   "source": [
    "DATA_DIR = './101_ObjectCategories'\n",
    "from caltech_dataset import Caltech\n",
    "\n",
    "# Prepare Pytorch train/test Datasets\n",
    "train_dataset = Caltech(DATA_DIR, split='train',  transform=train_transform)\n",
    "test_dataset = Caltech(DATA_DIR, split='test', transform=eval_transform)\n",
    "\n",
    "# since classes are contiguous in the dataset, this should split the train dataset in half by class as well\n",
    "train_indexes = list(range(0, len(train_dataset), 2))  # split the indices for your train split\n",
    "val_indexes = list(range(1, len(train_dataset), 2))    # split the indices for your val split\n",
    "\n",
    "val_dataset = Subset(train_dataset, val_indexes)\n",
    "train_dataset = Subset(train_dataset, train_indexes)\n",
    "\n",
    "# Check dataset sizes\n",
    "print(f'Train Dataset: {len(train_dataset)}')\n",
    "print(f'Valid Dataset: {len(val_dataset)}')\n",
    "print(f'Test Dataset: {len(test_dataset)}')"
   ],
   "execution_count": 13,
   "outputs": [
    {
     "name": "stdout",
     "output_type": "stream",
     "text": [
      "Train Dataset: 2892\n",
      "Valid Dataset: 2892\n",
      "Test Dataset: 2893\n"
     ]
    }
   ]
  },
  {
   "cell_type": "markdown",
   "metadata": {
    "id": "FYEDQ7Z21ldN"
   },
   "source": [
    "**Prepare Dataloaders**"
   ]
  },
  {
   "cell_type": "code",
   "metadata": {
    "id": "VriRw8SI1nle"
   },
   "source": [
    "# Dataloaders iterate over pytorch datasets and transparently provide useful functions (e.g. parallelization and shuffling)\n",
    "train_dataloader = DataLoader(train_dataset, batch_size=BATCH_SIZE, shuffle=True, num_workers=4, drop_last=True)\n",
    "val_dataloader = DataLoader(val_dataset, batch_size=BATCH_SIZE, shuffle=False, num_workers=4)\n",
    "\n",
    "test_dataloader = DataLoader(test_dataset, batch_size=BATCH_SIZE, shuffle=False, num_workers=4)"
   ],
   "execution_count": 14,
   "outputs": []
  },
  {
   "cell_type": "markdown",
   "metadata": {
    "id": "gbZ1t5Qs2z4j"
   },
   "source": [
    "**Prepare Network**"
   ]
  },
  {
   "cell_type": "code",
   "metadata": {
    "id": "exHUjtXa22DN"
   },
   "source": [
    "net = alexnet() # Loading AlexNet model\n",
    "\n",
    "# AlexNet has 1000 output neurons, corresponding to the 1000 ImageNet's classes\n",
    "# We need 101 outputs for Caltech-101\n",
    "net.classifier[6] = nn.Linear(4096, NUM_CLASSES) # nn.Linear in pytorch is a fully connected layer\n",
    "                                                 # The convolutional layer is nn.Conv2d\n",
    "\n",
    "# We just changed the last layer of AlexNet with a new fully connected layer with 101 outputs\n",
    "# It is strongly suggested to study torchvision.models.alexnet source code"
   ],
   "execution_count": 15,
   "outputs": []
  },
  {
   "cell_type": "markdown",
   "metadata": {
    "id": "KEyL3H_R4qCf"
   },
   "source": [
    "**Prepare Training**"
   ]
  },
  {
   "cell_type": "code",
   "metadata": {
    "id": "9sjq00G94tSc"
   },
   "source": [
    "# Define loss function\n",
    "criterion = nn.CrossEntropyLoss() # for classification, we use Cross Entropy\n",
    "\n",
    "# Choose parameters to optimize\n",
    "# To access a different set of parameters, you have to access submodules of AlexNet\n",
    "# (nn.Module objects, like AlexNet, implement the Composite Pattern)\n",
    "# e.g.: parameters of the fully connected layers: net.classifier.parameters()\n",
    "# e.g.: parameters of the convolutional layers: look at alexnet's source code ;) \n",
    "parameters_to_optimize = net.parameters() # In this case we optimize over all the parameters of AlexNet\n",
    "\n",
    "# Define optimizer\n",
    "# An optimizer updates the weights based on loss\n",
    "# We use SGD with momentum\n",
    "optimizer = optim.SGD(parameters_to_optimize, lr=LR, momentum=MOMENTUM, weight_decay=WEIGHT_DECAY)\n",
    "\n",
    "# Define scheduler\n",
    "# A scheduler dynamically changes learning rate\n",
    "# The most common schedule is the step(-down), which multiplies learning rate by gamma every STEP_SIZE epochs\n",
    "scheduler = optim.lr_scheduler.StepLR(optimizer, step_size=STEP_SIZE, gamma=GAMMA)"
   ],
   "execution_count": 16,
   "outputs": []
  },
  {
   "cell_type": "markdown",
   "metadata": {
    "id": "AxYUli9d9uYQ"
   },
   "source": [
    "**Train**"
   ]
  },
  {
   "cell_type": "code",
   "metadata": {
    "id": "ZcoQ5fD49yT_"
   },
   "source": [
    "# By default, everything is loaded to cpu\n",
    "net = net.to(DEVICE) # this will bring the network to GPU if DEVICE is cuda\n",
    "\n",
    "cudnn.benchmark # Calling this optimizes runtime\n",
    "\n",
    "current_step = 0\n",
    "# Start iterating over the epochs\n",
    "for epoch in range(NUM_EPOCHS):\n",
    "  print('Starting epoch {}/{}, LR = {}'.format(epoch+1, NUM_EPOCHS, scheduler.get_lr()))\n",
    "\n",
    "  # Iterate over the dataset\n",
    "  for images, labels in train_dataloader:\n",
    "    # Bring data over the device of choice\n",
    "    images = images.to(DEVICE)\n",
    "    labels = labels.to(DEVICE)\n",
    "\n",
    "    net.train() # Sets module in training mode\n",
    "\n",
    "    # PyTorch, by default, accumulates gradients after each backward pass\n",
    "    # We need to manually set the gradients to zero before starting a new iteration\n",
    "    optimizer.zero_grad() # Zero-ing the gradients\n",
    "\n",
    "    # Forward pass to the network\n",
    "    outputs = net(images)\n",
    "\n",
    "    # Compute loss based on output and ground truth\n",
    "    loss = criterion(outputs, labels)\n",
    "\n",
    "    # Log loss\n",
    "    if current_step % LOG_FREQUENCY == 0:\n",
    "      print('Step {}, Loss {}'.format(current_step, loss.item()))\n",
    "\n",
    "    # Compute gradients for each layer and update weights\n",
    "    loss.backward()  # backward pass: computes gradients\n",
    "    optimizer.step() # update weights based on accumulated gradients\n",
    "\n",
    "    current_step += 1\n",
    "\n",
    "  # Step the scheduler\n",
    "  scheduler.step() "
   ],
   "execution_count": 17,
   "outputs": [
    {
     "name": "stdout",
     "output_type": "stream",
     "text": [
      "Starting epoch 1/30, LR = [0.001]\n",
      "Step 0, Loss 4.625721454620361\n",
      "Step 10, Loss 4.625796318054199\n",
      "Starting epoch 2/30, LR = [0.001]\n",
      "Step 20, Loss 4.621888637542725\n",
      "Starting epoch 3/30, LR = [0.001]\n",
      "Step 30, Loss 4.619821071624756\n",
      "Starting epoch 4/30, LR = [0.001]\n",
      "Step 40, Loss 4.6167449951171875\n",
      "Starting epoch 5/30, LR = [0.001]\n",
      "Step 50, Loss 4.612441062927246\n",
      "Starting epoch 6/30, LR = [0.001]\n",
      "Step 60, Loss 4.6084513664245605\n",
      "Starting epoch 7/30, LR = [0.001]\n",
      "Step 70, Loss 4.608190059661865\n",
      "Starting epoch 8/30, LR = [0.001]\n",
      "Step 80, Loss 4.604811191558838\n",
      "Starting epoch 9/30, LR = [0.001]\n",
      "Step 90, Loss 4.603687763214111\n",
      "Starting epoch 10/30, LR = [0.001]\n",
      "Step 100, Loss 4.595467567443848\n",
      "Starting epoch 11/30, LR = [0.001]\n",
      "Step 110, Loss 4.598968982696533\n",
      "Step 120, Loss 4.59102725982666\n",
      "Starting epoch 12/30, LR = [0.001]\n",
      "Step 130, Loss 4.587029457092285\n",
      "Starting epoch 13/30, LR = [0.001]\n",
      "Step 140, Loss 4.581443786621094\n",
      "Starting epoch 14/30, LR = [0.001]\n",
      "Step 150, Loss 4.580748558044434\n",
      "Starting epoch 15/30, LR = [0.001]\n",
      "Step 160, Loss 4.5771026611328125\n",
      "Starting epoch 16/30, LR = [0.001]\n",
      "Step 170, Loss 4.576608657836914\n",
      "Starting epoch 17/30, LR = [0.001]\n",
      "Step 180, Loss 4.564892768859863\n",
      "Starting epoch 18/30, LR = [0.001]\n",
      "Step 190, Loss 4.553872108459473\n",
      "Starting epoch 19/30, LR = [0.001]\n",
      "Step 200, Loss 4.551804065704346\n",
      "Starting epoch 20/30, LR = [0.001]\n",
      "Step 210, Loss 4.538206577301025\n",
      "Starting epoch 21/30, LR = [1e-05]\n",
      "Step 220, Loss 4.518301010131836\n",
      "Step 230, Loss 4.539583206176758\n",
      "Starting epoch 22/30, LR = [0.0001]\n",
      "Step 240, Loss 4.514681339263916\n",
      "Starting epoch 23/30, LR = [0.0001]\n",
      "Step 250, Loss 4.496747016906738\n",
      "Starting epoch 24/30, LR = [0.0001]\n",
      "Step 260, Loss 4.514139175415039\n",
      "Starting epoch 25/30, LR = [0.0001]\n",
      "Step 270, Loss 4.516908168792725\n",
      "Starting epoch 26/30, LR = [0.0001]\n",
      "Step 280, Loss 4.498890399932861\n",
      "Starting epoch 27/30, LR = [0.0001]\n",
      "Step 290, Loss 4.473062038421631\n",
      "Starting epoch 28/30, LR = [0.0001]\n",
      "Step 300, Loss 4.470465183258057\n",
      "Starting epoch 29/30, LR = [0.0001]\n",
      "Step 310, Loss 4.490945816040039\n",
      "Starting epoch 30/30, LR = [0.0001]\n",
      "Step 320, Loss 4.484408378601074\n"
     ]
    }
   ]
  },
  {
   "cell_type": "markdown",
   "metadata": {
    "id": "UsHFI-GAJd69"
   },
   "source": [
    "**Validation**"
   ]
  },
  {
   "cell_type": "code",
   "metadata": {
    "id": "EO3HV5pqJg1o"
   },
   "source": [
    "net = net.to(DEVICE) # this will bring the network to GPU if DEVICE is cuda\n",
    "net.train(False) # Set Network to evaluation mode\n",
    "\n",
    "running_corrects = 0\n",
    "for images, labels in tqdm(val_dataloader):\n",
    "  images = images.to(DEVICE)\n",
    "  labels = labels.to(DEVICE)\n",
    "\n",
    "  # Forward Pass\n",
    "  outputs = net(images)\n",
    "\n",
    "  # Get predictions\n",
    "  _, preds = torch.max(outputs.data, 1)\n",
    "\n",
    "  # Update Corrects\n",
    "  running_corrects += torch.sum(preds == labels.data).data.item()\n",
    "\n",
    "# Calculate Accuracy\n",
    "accuracy = running_corrects / float(len(val_dataset))\n",
    "\n",
    "print('Validation Accuracy: {}'.format(accuracy))"
   ],
   "execution_count": 18,
   "outputs": [
    {
     "name": "stderr",
     "output_type": "stream",
     "text": [
      "\n",
      "  0%|          | 0/12 [00:00<?, ?it/s]\u001B[A\n",
      "  8%|▊         | 1/12 [00:01<00:13,  1.21s/it]\u001B[A\n",
      " 17%|█▋        | 2/12 [00:01<00:09,  1.09it/s]\u001B[A\n",
      " 25%|██▌       | 3/12 [00:01<00:06,  1.40it/s]\u001B[A\n",
      " 33%|███▎      | 4/12 [00:01<00:04,  1.78it/s]\u001B[A\n",
      " 42%|████▏     | 5/12 [00:02<00:03,  1.97it/s]\u001B[A\n",
      " 50%|█████     | 6/12 [00:02<00:02,  2.47it/s]\u001B[A\n",
      " 58%|█████▊    | 7/12 [00:02<00:01,  3.09it/s]\u001B[A\n",
      " 67%|██████▋   | 8/12 [00:02<00:01,  3.76it/s]\u001B[A\n",
      " 75%|███████▌  | 9/12 [00:02<00:00,  4.35it/s]\u001B[A\n",
      " 83%|████████▎ | 10/12 [00:02<00:00,  5.01it/s]\u001B[A\n",
      "100%|██████████| 12/12 [00:03<00:00,  3.59it/s]\u001B[A\n"
     ]
    },
    {
     "name": "stdout",
     "output_type": "stream",
     "text": [
      "Validation Accuracy: 0.09197786998616875\n"
     ]
    }
   ]
  },
  {
   "cell_type": "markdown",
   "metadata": {
    "id": "jxekmR745ySe"
   },
   "source": [
    "**Test**"
   ]
  },
  {
   "cell_type": "code",
   "metadata": {
    "id": "fSHcUqLB5yWO"
   },
   "source": [
    "net = net.to(DEVICE) # this will bring the network to GPU if DEVICE is cuda\n",
    "net.train(False) # Set Network to evaluation mode\n",
    "\n",
    "running_corrects = 0\n",
    "for images, labels in tqdm(test_dataloader):\n",
    "  images = images.to(DEVICE)\n",
    "  labels = labels.to(DEVICE)\n",
    "\n",
    "  # Forward Pass\n",
    "  outputs = net(images)\n",
    "\n",
    "  # Get predictions\n",
    "  _, preds = torch.max(outputs.data, 1)\n",
    "\n",
    "  # Update Corrects\n",
    "  running_corrects += torch.sum(preds == labels.data).data.item()\n",
    "\n",
    "# Calculate Accuracy\n",
    "accuracy = running_corrects / float(len(test_dataset))\n",
    "\n",
    "print('Test Accuracy: {}'.format(accuracy))"
   ],
   "execution_count": 19,
   "outputs": [
    {
     "name": "stderr",
     "output_type": "stream",
     "text": [
      "\n",
      "  0%|          | 0/12 [00:00<?, ?it/s]\u001B[A\n",
      "  8%|▊         | 1/12 [00:01<00:18,  1.66s/it]\u001B[A\n",
      " 17%|█▋        | 2/12 [00:01<00:12,  1.21s/it]\u001B[A\n",
      " 25%|██▌       | 3/12 [00:02<00:08,  1.11it/s]\u001B[A\n",
      " 33%|███▎      | 4/12 [00:02<00:05,  1.47it/s]\u001B[A\n",
      " 42%|████▏     | 5/12 [00:02<00:03,  1.80it/s]\u001B[A\n",
      " 50%|█████     | 6/12 [00:02<00:02,  2.22it/s]\u001B[A\n",
      " 58%|█████▊    | 7/12 [00:02<00:01,  2.79it/s]\u001B[A\n",
      " 67%|██████▋   | 8/12 [00:02<00:01,  3.41it/s]\u001B[A\n",
      " 75%|███████▌  | 9/12 [00:03<00:00,  4.05it/s]\u001B[A\n",
      " 83%|████████▎ | 10/12 [00:03<00:00,  4.73it/s]\u001B[A\n",
      "100%|██████████| 12/12 [00:03<00:00,  3.38it/s]\u001B[A\n"
     ]
    },
    {
     "name": "stdout",
     "output_type": "stream",
     "text": [
      "Test Accuracy: 0.09194607673695127\n"
     ]
    }
   ]
  }
 ]
}