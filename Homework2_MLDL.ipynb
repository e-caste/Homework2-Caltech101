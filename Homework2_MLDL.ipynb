{
 "nbformat": 4,
 "nbformat_minor": 0,
 "metadata": {
  "colab": {
   "name": "Homework2-MLDL.ipynb",
   "provenance": [],
   "collapsed_sections": [],
   "toc_visible": true
  },
  "kernelspec": {
   "name": "python3",
   "language": "python",
   "display_name": "Python 3"
  },
  "accelerator": "GPU"
 },
 "cells": [
  {
   "cell_type": "markdown",
   "source": [
    "**Import libraries**"
   ],
   "metadata": {
    "collapsed": false
   }
  },
  {
   "cell_type": "code",
   "metadata": {
    "id": "DokFOdD1dJEl"
   },
   "source": [
    "import os\n",
    "import logging\n",
    "\n",
    "import torch\n",
    "import torch.nn as nn\n",
    "import torch.optim as optim\n",
    "from torch.utils.data import Subset, DataLoader\n",
    "from torch.backends import cudnn\n",
    "\n",
    "import torchvision\n",
    "from torchvision import transforms\n",
    "from torchvision.models import alexnet\n",
    "\n",
    "from tqdm import tqdm"
   ],
   "execution_count": 51,
   "outputs": []
  },
  {
   "cell_type": "markdown",
   "metadata": {
    "id": "OIDLJuIXK_vh"
   },
   "source": [
    "**Set Arguments**"
   ]
  },
  {
   "cell_type": "code",
   "metadata": {
    "id": "d5PkYfqfK_SA"
   },
   "source": [
    "DEVICE = 'cuda' # 'cuda' or 'cpu'\n",
    "\n",
    "NUM_CLASSES = 102 # 101 + 1: There is am extra Background class that should be removed \n",
    "\n",
    "BATCH_SIZE = 256     # Higher batch sizes allows for larger learning rates. An empirical heuristic suggests that, when changing\n",
    "                     # the batch size, learning rate should change by the same factor to have comparable results\n",
    "\n",
    "LR = 0.05            # The initial Learning Rate\n",
    "MOMENTUM = 0.9       # Hyperparameter for SGD, keep this at 0.9 when using SGD\n",
    "WEIGHT_DECAY = 5e-5  # Regularization, you can keep this at the default\n",
    "\n",
    "NUM_EPOCHS = 40      # Total number of training epochs (iterations over dataset)\n",
    "STEP_SIZE = 25       # How many epochs before decreasing learning rate (if using a step-down policy)\n",
    "GAMMA = 0.01          # Multiplicative factor for learning rate step-down\n",
    "\n",
    "LOG_FREQUENCY = 10"
   ],
   "execution_count": 52,
   "outputs": []
  },
  {
   "cell_type": "markdown",
   "metadata": {
    "id": "9gwii0TBHvzh"
   },
   "source": [
    "**Define Data Preprocessing**"
   ]
  },
  {
   "cell_type": "code",
   "metadata": {
    "id": "QUDdw4j2H0Mc"
   },
   "source": [
    "# Define transforms for training phase\n",
    "train_transform = transforms.Compose([transforms.Resize(256),      # Resizes short size of the PIL image to 256\n",
    "                                      transforms.CenterCrop(224),  # Crops a central square patch of the image\n",
    "                                                                   # 224 because torchvision's AlexNet needs a 224x224 input!\n",
    "                                                                   # Remember this when applying different transformations, otherwise you get an error\n",
    "                                      transforms.ToTensor(), # Turn PIL Image to torch.Tensor\n",
    "                                      transforms.Normalize((0.5, 0.5, 0.5), (0.5, 0.5, 0.5)) # Normalizes tensor with mean and standard deviation\n",
    "])\n",
    "# Define transforms for the evaluation phase\n",
    "eval_transform = transforms.Compose([transforms.Resize(256),\n",
    "                                      transforms.CenterCrop(224),\n",
    "                                      transforms.ToTensor(),\n",
    "                                      transforms.Normalize((0.5, 0.5, 0.5), (0.5, 0.5, 0.5))                                    \n",
    "])"
   ],
   "execution_count": 53,
   "outputs": []
  },
  {
   "cell_type": "markdown",
   "metadata": {
    "id": "2qYIHPzYLY7i"
   },
   "source": [
    "**Prepare Dataset**"
   ]
  },
  {
   "cell_type": "code",
   "metadata": {
    "id": "QfVq_uDHLbsR",
    "outputId": "af2136aa-db20-43e9-8d77-502a323b9484",
    "colab": {
     "base_uri": "https://localhost:8080/",
     "height": 375
    }
   },
   "source": [
    "DATA_DIR = './101_ObjectCategories'\n",
    "from caltech_dataset import Caltech\n",
    "\n",
    "# Prepare Pytorch train/test Datasets\n",
    "train_dataset = Caltech(DATA_DIR, split='train',  transform=train_transform)\n",
    "test_dataset = Caltech(DATA_DIR, split='test', transform=eval_transform)\n",
    "\n",
    "# since classes are contiguous in the dataset, this should split the train dataset in half by class as well\n",
    "train_indexes = list(range(0, len(train_dataset), 2))  # split the indices for your train split\n",
    "val_indexes = list(range(1, len(train_dataset), 2))    # split the indices for your val split\n",
    "\n",
    "val_dataset = Subset(train_dataset, val_indexes)\n",
    "train_dataset = Subset(train_dataset, train_indexes)\n",
    "\n",
    "# Check dataset sizes\n",
    "print(f'Train Dataset: {len(train_dataset)}')\n",
    "print(f'Valid Dataset: {len(val_dataset)}')\n",
    "print(f'Test Dataset: {len(test_dataset)}')"
   ],
   "execution_count": 54,
   "outputs": [
    {
     "name": "stdout",
     "output_type": "stream",
     "text": [
      "Train Dataset: 2892\n",
      "Valid Dataset: 2892\n",
      "Test Dataset: 2893\n"
     ]
    }
   ]
  },
  {
   "cell_type": "markdown",
   "metadata": {
    "id": "FYEDQ7Z21ldN"
   },
   "source": [
    "**Prepare Dataloaders**"
   ]
  },
  {
   "cell_type": "code",
   "metadata": {
    "id": "VriRw8SI1nle"
   },
   "source": [
    "# Dataloaders iterate over pytorch datasets and transparently provide useful functions (e.g. parallelization and shuffling)\n",
    "train_dataloader = DataLoader(train_dataset, batch_size=BATCH_SIZE, shuffle=True, num_workers=4, drop_last=True)\n",
    "val_dataloader = DataLoader(val_dataset, batch_size=BATCH_SIZE, shuffle=False, num_workers=4)\n",
    "\n",
    "test_dataloader = DataLoader(test_dataset, batch_size=BATCH_SIZE, shuffle=False, num_workers=4)"
   ],
   "execution_count": 55,
   "outputs": []
  },
  {
   "cell_type": "markdown",
   "metadata": {
    "id": "gbZ1t5Qs2z4j"
   },
   "source": [
    "**Prepare Network**"
   ]
  },
  {
   "cell_type": "code",
   "metadata": {
    "id": "exHUjtXa22DN"
   },
   "source": [
    "net = alexnet() # Loading AlexNet model\n",
    "\n",
    "# AlexNet has 1000 output neurons, corresponding to the 1000 ImageNet's classes\n",
    "# We need 101 outputs for Caltech-101\n",
    "net.classifier[6] = nn.Linear(4096, NUM_CLASSES) # nn.Linear in pytorch is a fully connected layer\n",
    "                                                 # The convolutional layer is nn.Conv2d\n",
    "\n",
    "# We just changed the last layer of AlexNet with a new fully connected layer with 101 outputs\n",
    "# It is strongly suggested to study torchvision.models.alexnet source code"
   ],
   "execution_count": 56,
   "outputs": []
  },
  {
   "cell_type": "markdown",
   "metadata": {
    "id": "KEyL3H_R4qCf"
   },
   "source": [
    "**Prepare Training**"
   ]
  },
  {
   "cell_type": "code",
   "metadata": {
    "id": "9sjq00G94tSc"
   },
   "source": [
    "# Define loss function\n",
    "criterion = nn.CrossEntropyLoss() # for classification, we use Cross Entropy\n",
    "\n",
    "# Choose parameters to optimize\n",
    "# To access a different set of parameters, you have to access submodules of AlexNet\n",
    "# (nn.Module objects, like AlexNet, implement the Composite Pattern)\n",
    "# e.g.: parameters of the fully connected layers: net.classifier.parameters()\n",
    "# e.g.: parameters of the convolutional layers: look at alexnet's source code ;) \n",
    "parameters_to_optimize = net.parameters() # In this case we optimize over all the parameters of AlexNet\n",
    "\n",
    "# Define optimizer\n",
    "# An optimizer updates the weights based on loss\n",
    "# We use SGD with momentum\n",
    "optimizer = optim.SGD(parameters_to_optimize, lr=LR, momentum=MOMENTUM, weight_decay=WEIGHT_DECAY)\n",
    "\n",
    "# Define scheduler\n",
    "# A scheduler dynamically changes learning rate\n",
    "# The most common schedule is the step(-down), which multiplies learning rate by gamma every STEP_SIZE epochs\n",
    "scheduler = optim.lr_scheduler.StepLR(optimizer, step_size=STEP_SIZE, gamma=GAMMA)"
   ],
   "execution_count": 57,
   "outputs": []
  },
  {
   "cell_type": "markdown",
   "metadata": {
    "id": "AxYUli9d9uYQ"
   },
   "source": [
    "**Train**"
   ]
  },
  {
   "cell_type": "code",
   "metadata": {
    "id": "ZcoQ5fD49yT_"
   },
   "source": [
    "# By default, everything is loaded to cpu\n",
    "net = net.to(DEVICE) # this will bring the network to GPU if DEVICE is cuda\n",
    "\n",
    "cudnn.benchmark # Calling this optimizes runtime\n",
    "\n",
    "current_step = 0\n",
    "# Start iterating over the epochs\n",
    "for epoch in range(NUM_EPOCHS):\n",
    "  print('Starting epoch {}/{}, LR = {}'.format(epoch+1, NUM_EPOCHS, scheduler.get_lr()))\n",
    "\n",
    "  # Iterate over the dataset\n",
    "  for images, labels in train_dataloader:\n",
    "    # Bring data over the device of choice\n",
    "    images = images.to(DEVICE)\n",
    "    labels = labels.to(DEVICE)\n",
    "\n",
    "    net.train() # Sets module in training mode\n",
    "\n",
    "    # PyTorch, by default, accumulates gradients after each backward pass\n",
    "    # We need to manually set the gradients to zero before starting a new iteration\n",
    "    optimizer.zero_grad() # Zero-ing the gradients\n",
    "\n",
    "    # Forward pass to the network\n",
    "    outputs = net(images)\n",
    "\n",
    "    # Compute loss based on output and ground truth\n",
    "    loss = criterion(outputs, labels)\n",
    "\n",
    "    # Log loss\n",
    "    if current_step % LOG_FREQUENCY == 0:\n",
    "      print('Step {}, Loss {}'.format(current_step, loss.item()))\n",
    "\n",
    "    # Compute gradients for each layer and update weights\n",
    "    loss.backward()  # backward pass: computes gradients\n",
    "    optimizer.step() # update weights based on accumulated gradients\n",
    "\n",
    "    current_step += 1\n",
    "\n",
    "  # Step the scheduler\n",
    "  scheduler.step() "
   ],
   "execution_count": 58,
   "outputs": [
    {
     "name": "stdout",
     "output_type": "stream",
     "text": [
      "Starting epoch 1/40, LR = [0.05]\n",
      "Step 0, Loss 4.626263618469238\n",
      "Step 10, Loss 4.564999103546143\n",
      "Starting epoch 2/40, LR = [0.05]\n",
      "Step 20, Loss 4.3379058837890625\n",
      "Starting epoch 3/40, LR = [0.05]\n",
      "Step 30, Loss 4.172189235687256\n",
      "Starting epoch 4/40, LR = [0.05]\n",
      "Step 40, Loss 4.129055500030518\n",
      "Starting epoch 5/40, LR = [0.05]\n",
      "Step 50, Loss 3.9798154830932617\n",
      "Starting epoch 6/40, LR = [0.05]\n",
      "Step 60, Loss 4.161996364593506\n",
      "Starting epoch 7/40, LR = [0.05]\n",
      "Step 70, Loss 3.8086931705474854\n",
      "Starting epoch 8/40, LR = [0.05]\n",
      "Step 80, Loss 3.6565451622009277\n",
      "Starting epoch 9/40, LR = [0.05]\n",
      "Step 90, Loss 3.7589969635009766\n",
      "Starting epoch 10/40, LR = [0.05]\n",
      "Step 100, Loss 3.547974109649658\n",
      "Starting epoch 11/40, LR = [0.05]\n",
      "Step 110, Loss 3.1591897010803223\n",
      "Step 120, Loss 3.298666477203369\n",
      "Starting epoch 12/40, LR = [0.05]\n",
      "Step 130, Loss 3.2028496265411377\n",
      "Starting epoch 13/40, LR = [0.05]\n",
      "Step 140, Loss 3.026773452758789\n",
      "Starting epoch 14/40, LR = [0.05]\n",
      "Step 150, Loss 3.075024127960205\n",
      "Starting epoch 15/40, LR = [0.05]\n",
      "Step 160, Loss 2.9700164794921875\n",
      "Starting epoch 16/40, LR = [0.05]\n",
      "Step 170, Loss 2.839120626449585\n",
      "Starting epoch 17/40, LR = [0.05]\n",
      "Step 180, Loss 2.3484933376312256\n",
      "Starting epoch 18/40, LR = [0.05]\n",
      "Step 190, Loss 2.491579532623291\n",
      "Starting epoch 19/40, LR = [0.05]\n",
      "Step 200, Loss 2.067089080810547\n",
      "Starting epoch 20/40, LR = [0.05]\n",
      "Step 210, Loss 2.026538848876953\n",
      "Starting epoch 21/40, LR = [0.05]\n",
      "Step 220, Loss 1.7543965578079224\n",
      "Step 230, Loss 1.775120496749878\n",
      "Starting epoch 22/40, LR = [0.05]\n",
      "Step 240, Loss 1.9647973775863647\n",
      "Starting epoch 23/40, LR = [0.05]\n",
      "Step 250, Loss 1.5855664014816284\n",
      "Starting epoch 24/40, LR = [0.05]\n",
      "Step 260, Loss 1.241882085800171\n",
      "Starting epoch 25/40, LR = [0.05]\n",
      "Step 270, Loss 1.0513917207717896\n",
      "Starting epoch 26/40, LR = [5e-06]\n",
      "Step 280, Loss 0.9574881792068481\n",
      "Starting epoch 27/40, LR = [0.0005]\n",
      "Step 290, Loss 0.7150114178657532\n",
      "Starting epoch 28/40, LR = [0.0005]\n",
      "Step 300, Loss 0.7395777702331543\n",
      "Starting epoch 29/40, LR = [0.0005]\n",
      "Step 310, Loss 0.7073565721511841\n",
      "Starting epoch 30/40, LR = [0.0005]\n",
      "Step 320, Loss 0.5822318196296692\n",
      "Starting epoch 31/40, LR = [0.0005]\n",
      "Step 330, Loss 0.6840043067932129\n",
      "Step 340, Loss 0.4281332492828369\n",
      "Starting epoch 32/40, LR = [0.0005]\n",
      "Step 350, Loss 0.5670859217643738\n",
      "Starting epoch 33/40, LR = [0.0005]\n",
      "Step 360, Loss 0.7081515192985535\n",
      "Starting epoch 34/40, LR = [0.0005]\n",
      "Step 370, Loss 0.5136449337005615\n",
      "Starting epoch 35/40, LR = [0.0005]\n",
      "Step 380, Loss 0.5141690373420715\n",
      "Starting epoch 36/40, LR = [0.0005]\n",
      "Step 390, Loss 0.4838006794452667\n",
      "Starting epoch 37/40, LR = [0.0005]\n",
      "Step 400, Loss 0.4210873246192932\n",
      "Starting epoch 38/40, LR = [0.0005]\n",
      "Step 410, Loss 0.4835087060928345\n",
      "Starting epoch 39/40, LR = [0.0005]\n",
      "Step 420, Loss 0.32761943340301514\n",
      "Starting epoch 40/40, LR = [0.0005]\n",
      "Step 430, Loss 0.424297034740448\n"
     ]
    }
   ]
  },
  {
   "cell_type": "markdown",
   "metadata": {
    "id": "UsHFI-GAJd69"
   },
   "source": [
    "**Validation**"
   ]
  },
  {
   "cell_type": "code",
   "metadata": {
    "id": "EO3HV5pqJg1o"
   },
   "source": [
    "net = net.to(DEVICE) # this will bring the network to GPU if DEVICE is cuda\n",
    "net.train(False) # Set Network to evaluation mode\n",
    "\n",
    "running_corrects = 0\n",
    "for images, labels in tqdm(val_dataloader):\n",
    "  images = images.to(DEVICE)\n",
    "  labels = labels.to(DEVICE)\n",
    "\n",
    "  # Forward Pass\n",
    "  outputs = net(images)\n",
    "\n",
    "  # Get predictions\n",
    "  _, preds = torch.max(outputs.data, 1)\n",
    "\n",
    "  # Update Corrects\n",
    "  running_corrects += torch.sum(preds == labels.data).data.item()\n",
    "\n",
    "# Calculate Accuracy\n",
    "accuracy = running_corrects / float(len(val_dataset))\n",
    "\n",
    "print('Validation Accuracy: {}'.format(accuracy))"
   ],
   "execution_count": 59,
   "outputs": [
    {
     "name": "stderr",
     "output_type": "stream",
     "text": [
      "100%|██████████| 12/12 [00:03<00:00,  3.41it/s]\n"
     ]
    },
    {
     "name": "stdout",
     "output_type": "stream",
     "text": [
      "Validation Accuracy: 0.5003457814661134\n"
     ]
    }
   ]
  },
  {
   "cell_type": "markdown",
   "metadata": {
    "id": "jxekmR745ySe"
   },
   "source": [
    "**Test**"
   ]
  },
  {
   "cell_type": "code",
   "metadata": {
    "id": "fSHcUqLB5yWO"
   },
   "source": [
    "net = net.to(DEVICE) # this will bring the network to GPU if DEVICE is cuda\n",
    "net.train(False) # Set Network to evaluation mode\n",
    "\n",
    "running_corrects = 0\n",
    "for images, labels in tqdm(test_dataloader):\n",
    "  images = images.to(DEVICE)\n",
    "  labels = labels.to(DEVICE)\n",
    "\n",
    "  # Forward Pass\n",
    "  outputs = net(images)\n",
    "\n",
    "  # Get predictions\n",
    "  _, preds = torch.max(outputs.data, 1)\n",
    "\n",
    "  # Update Corrects\n",
    "  running_corrects += torch.sum(preds == labels.data).data.item()\n",
    "\n",
    "# Calculate Accuracy\n",
    "accuracy = running_corrects / float(len(test_dataset))\n",
    "\n",
    "print('Test Accuracy: {}'.format(accuracy))"
   ],
   "execution_count": 60,
   "outputs": [
    {
     "name": "stderr",
     "output_type": "stream",
     "text": [
      "100%|██████████| 12/12 [00:03<00:00,  3.64it/s]\n"
     ]
    },
    {
     "name": "stdout",
     "output_type": "stream",
     "text": [
      "Test Accuracy: 0.5008641548565503\n"
     ]
    }
   ]
  }
 ]
}