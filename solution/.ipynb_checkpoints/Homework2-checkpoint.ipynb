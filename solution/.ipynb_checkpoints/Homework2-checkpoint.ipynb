{
 "cells": [
  {
   "cell_type": "markdown",
   "metadata": {
    "colab_type": "text",
    "id": "c9QcGnGPdX2C"
   },
   "source": [
    "\n",
    "**Install requirements**"
   ]
  },
  {
   "cell_type": "code",
   "execution_count": null,
   "metadata": {
    "colab": {},
    "colab_type": "code",
    "id": "k9O3aM3Tb28q"
   },
   "outputs": [],
   "source": [
    "# !pip3 install 'torch==1.3.1'\n",
    "# !pip3 install 'torchvision==0.5.0'\n",
    "# !pip3 install 'Pillow-SIMD'\n",
    "# !pip3 install 'tqdm'"
   ]
  },
  {
   "cell_type": "markdown",
   "metadata": {
    "colab_type": "text",
    "id": "fo942LMOdlh4"
   },
   "source": [
    "**Import libraries**"
   ]
  },
  {
   "cell_type": "code",
   "execution_count": null,
   "metadata": {
    "colab": {},
    "colab_type": "code",
    "id": "DokFOdD1dJEl"
   },
   "outputs": [],
   "source": [
    "import os\n",
    "import logging\n",
    "import numpy as np\n",
    "import matplotlib.pyplot as plt \n",
    "from statistics import mean \n",
    "\n",
    "import random\n",
    "import torch\n",
    "import torch.nn as nn\n",
    "import torch.optim as optim\n",
    "from torch.utils.data import Subset, DataLoader\n",
    "from torch.backends import cudnn\n",
    "\n",
    "import torchvision\n",
    "from torchvision import transforms\n",
    "from torchvision.models import alexnet, resnet18, resnet50\n",
    "\n",
    "from PIL import Image\n",
    "from tqdm import tqdm"
   ]
  },
  {
   "cell_type": "markdown",
   "metadata": {
    "colab_type": "text",
    "id": "OIDLJuIXK_vh"
   },
   "source": [
    "**Set Arguments**"
   ]
  },
  {
   "cell_type": "code",
   "execution_count": null,
   "metadata": {
    "colab": {},
    "colab_type": "code",
    "id": "d5PkYfqfK_SA"
   },
   "outputs": [],
   "source": [
    "DEVICE = 'cuda' # 'cuda' or 'cpu'\n",
    "\n",
    "NUM_CLASSES = 101    # 101 + 1: There is am extra Background class that should be removed \n",
    "\n",
    "BATCH_SIZE = 128     # Higher batch sizes allows for larger learning rates. An empirical heuristic suggests that, when changing\n",
    "                     # the batch size, learning rate should change by the same factor to have comparable results\n",
    "\n",
    "LR = 0.05      # The initial Learning Rate\n",
    "MOMENTUM = 0.9       # Hyperparameter for SGD, keep this at 0.9 when using SGD\n",
    "WEIGHT_DECAY = 5e-5  # Regularization, you can keep this at the default\n",
    "\n",
    "NUM_EPOCHS = 30   # Total number of training epochs (iterations over dataset)\n",
    "STEP_SIZE = 20    # How many epochs before decreasing learning rate (if using a step-down policy)\n",
    "GAMMA = 0.1          # Multiplicative factor for learning rate step-down\n",
    "\n",
    "LOG_FREQUENCY = 5"
   ]
  },
  {
   "cell_type": "code",
   "execution_count": null,
   "metadata": {
    "colab": {},
    "colab_type": "code",
    "id": "pIHncuIrjylr"
   },
   "outputs": [],
   "source": [
    "PRE_TRAINED = True     # set to True to load the pre-trained AlexNet\n",
    "\n",
    "FREEZING = None        # define which layers of the network will be kept frozen\n",
    "                       # None : train the whole network\n",
    "                       # \"CONV\" : train only the FC-layers\n",
    "                       # \"FC\" : train only the conv-layers\n",
    "\n",
    "AUG_PROB = 0.5   # the probability with witch each image is transformed at training time during each epoch\n",
    "AUG_TYPE = None      # define the type of augmentation pipeline \n",
    "                     # None for no data augmentation\n",
    "                     # \"CS-HF\" for contrast + saturation + horizontal flip\n",
    "                     # \"H-RP\" for hue + random perspective\n",
    "                     # \"B-GS-R\" for brightness + grayscale + rotation "
   ]
  },
  {
   "cell_type": "markdown",
   "metadata": {
    "colab_type": "text",
    "id": "9gwii0TBHvzh"
   },
   "source": [
    "**Define Data Preprocessing and Augmentation**"
   ]
  },
  {
   "cell_type": "code",
   "execution_count": null,
   "metadata": {
    "colab": {},
    "colab_type": "code",
    "id": "QUDdw4j2H0Mc"
   },
   "outputs": [],
   "source": [
    "if PRE_TRAINED:\n",
    "  normalizer = transforms.Normalize(mean=(0.485, 0.456, 0.406), std=(0.229, 0.224, 0.225))\n",
    "else:\n",
    "  normalizer = transforms.Normalize(mean = (0.5, 0.5, 0.5), std=(0.229, 0.224, 0.225))\n",
    "\n",
    "# Define transforms for training phase\n",
    "train_transform = transforms.Compose([transforms.Resize(256),      # Resizes short size of the PIL image to 256\n",
    "                                      transforms.CenterCrop(224),  # Crops a central square patch of the image\n",
    "                                                                   # 224 because torchvision's AlexNet needs a 224x224 input!\n",
    "                                                                   # Remember this when applying different transformations, otherwise you get an error\n",
    "                                      transforms.ToTensor()\n",
    "])\n",
    "\n",
    "\n",
    "# Define transforms for the evaluation phase\n",
    "eval_transform = transforms.Compose([transforms.Resize(256),\n",
    "                                      transforms.CenterCrop(224), \n",
    "                                     transforms.ToTensor()                               \n",
    "])\n"
   ]
  },
  {
   "cell_type": "code",
   "execution_count": null,
   "metadata": {
    "colab": {},
    "colab_type": "code",
    "id": "IfY0flp3riZL"
   },
   "outputs": [],
   "source": [
    "bright_t = transforms.ColorJitter(brightness=[1,2])\n",
    "contrast_t = transforms.ColorJitter(contrast = [2,5])\n",
    "saturation_t = transforms.ColorJitter(saturation = [1,3])\n",
    "hue_t = transforms.ColorJitter(hue = 0.2)\n",
    "gs_t = transforms.Grayscale(3)\n",
    "hflip_t = transforms.RandomHorizontalFlip(p = 1)\n",
    "rp_t = transforms.RandomPerspective(p = 1, distortion_scale = 0.5)\n",
    "rot_t = transforms.RandomRotation(degrees = 90)\n",
    "\n",
    "aug_transformations = {\n",
    "    \"CS-HF\": transforms.Compose([contrast_t, saturation_t, hflip_t]),\n",
    "    \"H-RP\": transforms.Compose([hue_t, rp_t]),\n",
    "    \"B-GS-R\": transforms.Compose([bright_t, gs_t, rot_t])\n",
    "    }\n",
    "\n",
    "if AUG_TYPE is not None:\n",
    "  aug_transformation = aug_transformations[AUG_TYPE]\n",
    "  aug_pipeline = transforms.Compose([ \n",
    "                                      transforms.ToPILImage(),\n",
    "                                      transforms.RandomApply([aug_transformation], p = AUG_PROB),\n",
    "                                      transforms.ToTensor(),\n",
    "                                      normalizer\n",
    "                                     ])\n",
    "else:\n",
    "  aug_pipeline = normalizer\n"
   ]
  },
  {
   "cell_type": "markdown",
   "metadata": {
    "colab_type": "text",
    "id": "2qYIHPzYLY7i"
   },
   "source": [
    "**Prepare Dataset**"
   ]
  },
  {
   "cell_type": "code",
   "execution_count": null,
   "metadata": {
    "colab": {},
    "colab_type": "code",
    "id": "QfVq_uDHLbsR"
   },
   "outputs": [],
   "source": [
    "# Clone github repository with data\n",
    "if not os.path.isdir('./Caltech101'):\n",
    "  !git clone https://github.com/MachineLearning2020/Homework2-Caltech101.git\n",
    "  !mv 'Homework2-Caltech101' 'Caltech101'\n",
    "  !git clone https://github.com/frattinfabio/MLDL-hw2-DL.git\n",
    "  !mv 'MLDL-hw2-DL/caltech_dataset.py' 'Caltech101/caltech_dataset.py' \n",
    "\n",
    "DATA_DIR = 'Caltech101/101_ObjectCategories'\n",
    "from Caltech101.caltech_dataset import Caltech\n",
    "from sklearn.model_selection import train_test_split\n",
    "\n",
    "# Prepare Pytorch train/test Datasets\n",
    "train_dataset_big = Caltech(DATA_DIR, split='train',  transform=train_transform)\n",
    "test_dataset = Caltech(DATA_DIR, split='test', transform=eval_transform)\n",
    "\n",
    "indexes = range(0, len(train_dataset_big))\n",
    "splitting = train_test_split(indexes, train_size = 0.5, random_state = 42, stratify = train_dataset_big.data[\"label\"], shuffle = True)\n",
    "train_indexes = splitting[0]\n",
    "val_indexes = splitting[1]\n",
    "\n",
    "train_dataset = Subset(train_dataset_big, train_indexes)\n",
    "val_dataset = Subset(train_dataset_big, val_indexes)\n",
    "\n",
    "# Check dataset sizes\n",
    "print('Train Dataset: {}'.format(len(train_dataset)))\n",
    "print('Valid Dataset: {}'.format(len(val_dataset)))\n",
    "print('Test Dataset: {}'.format(len(test_dataset)))"
   ]
  },
  {
   "cell_type": "markdown",
   "metadata": {
    "colab_type": "text",
    "id": "FYEDQ7Z21ldN"
   },
   "source": [
    "**Prepare Dataloaders**"
   ]
  },
  {
   "cell_type": "code",
   "execution_count": null,
   "metadata": {
    "colab": {},
    "colab_type": "code",
    "id": "VriRw8SI1nle"
   },
   "outputs": [],
   "source": [
    "# Dataloaders iterate over pytorch datasets and transparently provide useful functions (e.g. parallelization and shuffling)\n",
    "train_dataloader = DataLoader(train_dataset, batch_size=BATCH_SIZE, shuffle=True, num_workers=4, drop_last=True)\n",
    "val_dataloader = DataLoader(val_dataset, batch_size=BATCH_SIZE, shuffle=False, num_workers=4)\n",
    "\n",
    "test_dataloader = DataLoader(test_dataset, batch_size=BATCH_SIZE, shuffle=False, num_workers=4)"
   ]
  },
  {
   "cell_type": "code",
   "execution_count": null,
   "metadata": {
    "colab": {},
    "colab_type": "code",
    "id": "jNSah-oW8cLo"
   },
   "outputs": [],
   "source": [
    "def showimage(tensor):\n",
    "  plt.imshow(tensor.permute(1,2,0))"
   ]
  },
  {
   "cell_type": "code",
   "execution_count": null,
   "metadata": {
    "colab": {},
    "colab_type": "code",
    "id": "XrDkVq14st6F"
   },
   "outputs": [],
   "source": [
    "# showimage(aug_pipeline(train_dataloader.dataset.__getitem__(4)[0]))"
   ]
  },
  {
   "cell_type": "markdown",
   "metadata": {
    "colab_type": "text",
    "id": "gbZ1t5Qs2z4j"
   },
   "source": [
    "**Prepare Network**"
   ]
  },
  {
   "cell_type": "code",
   "execution_count": null,
   "metadata": {
    "colab": {},
    "colab_type": "code",
    "id": "exHUjtXa22DN"
   },
   "outputs": [],
   "source": [
    "# net = alexnet(pretrained= PRE_TRAINED) # Loading AlexNet model\n",
    "# net.classifier[6] = nn.Linear(4096, NUM_CLASSES)\n",
    "\n",
    "net = resnet50(pretrained=PRE_TRAINED)\n",
    "net.fc = nn.Linear(net.fc.in_features, NUM_CLASSES)"
   ]
  },
  {
   "cell_type": "markdown",
   "metadata": {
    "colab_type": "text",
    "id": "KEyL3H_R4qCf"
   },
   "source": [
    "**Prepare Training**"
   ]
  },
  {
   "cell_type": "code",
   "execution_count": null,
   "metadata": {
    "colab": {},
    "colab_type": "code",
    "id": "9sjq00G94tSc"
   },
   "outputs": [],
   "source": [
    "# Define loss function\n",
    "criterion = nn.CrossEntropyLoss() # for classification, we use Cross Entropy\n",
    "\n",
    "# Choose parameters to optimize\n",
    "# e.g.: parameters of the whole network: net.parameters()\n",
    "# e.g.: parameters of the fully connected layers: net.classifier.parameters()\n",
    "# e.g.: parameters of the convolutional layers: net.features.parameters() or net.fc.parameters()\n",
    "if FREEZING is not None:\n",
    "  if FREEZING == \"FC\":\n",
    "    parameters_to_optimize = net.features.parameters() \n",
    "  else:\n",
    "    # parameters_to_optimize = net.classifier.parameters()\n",
    "    parameters_to_optimize = net.fc.parameters()\n",
    "else:\n",
    "  parameters_to_optimize = net.parameters()\n",
    "\n",
    "# Define optimizer\n",
    "# An optimizer updates the weights based on loss\n",
    "# We use SGD with momentum\n",
    "optimizer = optim.SGD(parameters_to_optimize, lr=LR, momentum=MOMENTUM, weight_decay=WEIGHT_DECAY)\n",
    "\n",
    "# Define scheduler\n",
    "# A scheduler dynamically changes learning rate\n",
    "# The most common schedule is the step(-down), which multiplies learning rate by gamma every STEP_SIZE epochs\n",
    "scheduler = optim.lr_scheduler.StepLR(optimizer, step_size=STEP_SIZE, gamma=GAMMA)"
   ]
  },
  {
   "cell_type": "markdown",
   "metadata": {
    "colab_type": "text",
    "id": "UsHFI-GAJd69"
   },
   "source": [
    "**Validation**"
   ]
  },
  {
   "cell_type": "code",
   "execution_count": null,
   "metadata": {
    "colab": {},
    "colab_type": "code",
    "id": "EO3HV5pqJg1o"
   },
   "outputs": [],
   "source": [
    "def evaluate(net, dataloader, print_tqdm = True):\n",
    "  with torch.no_grad():\n",
    "    net = net.to(DEVICE) # this will bring the network to GPU if DEVICE is cuda\n",
    "    net.train(False) # Set Network to evaluation mode\n",
    "    running_corrects = 0\n",
    "    iterable = tqdm(dataloader) if print_tqdm else dataloader\n",
    "    losses = []\n",
    "    for images, labels in iterable: \n",
    "      norm_images = []\n",
    "      for image in images:\n",
    "        norm_image = normalizer(image)\n",
    "        norm_images.append(norm_image)\n",
    "      norm_images = torch.stack(norm_images)  \n",
    "      norm_images = norm_images.to(DEVICE)\n",
    "      labels = labels.to(DEVICE)\n",
    "      # Forward Pass\n",
    "      outputs = net(norm_images)\n",
    "      loss = criterion(outputs, labels)\n",
    "      losses.append(loss.item())\n",
    "      # Get predictions\n",
    "      _, preds = torch.max(outputs.data, 1)\n",
    "      # Update Corrects\n",
    "      running_corrects += torch.sum(preds == labels.data).data.item()\n",
    "    # Calculate Accuracy\n",
    "    accuracy = running_corrects / float(len(dataloader.dataset))\n",
    "\n",
    "  return accuracy, mean(losses)"
   ]
  },
  {
   "cell_type": "markdown",
   "metadata": {
    "colab_type": "text",
    "id": "AxYUli9d9uYQ"
   },
   "source": [
    "**Train and Validation**"
   ]
  },
  {
   "cell_type": "code",
   "execution_count": null,
   "metadata": {
    "colab": {},
    "colab_type": "code",
    "id": "ZcoQ5fD49yT_"
   },
   "outputs": [],
   "source": [
    "# By default, everything is loaded to cpu\n",
    "net = net.to(DEVICE) # this will bring the network to GPU if DEVICE is cuda\n",
    "\n",
    "cudnn.benchmark # Calling this optimizes runtime\n",
    "\n",
    "current_step = 0\n",
    "\n",
    "val_accuracies = []\n",
    "val_losses = []\n",
    "train_accuracies = []\n",
    "train_losses = []\n",
    "\n",
    "# Start iterating over the epochs\n",
    "for epoch in range(NUM_EPOCHS):\n",
    "  print('Starting epoch {}/{}, LR = {}'.format(epoch+1, NUM_EPOCHS, scheduler.get_last_lr()))\n",
    "\n",
    "  # Iterate over the dataset\n",
    "  for images, labels in train_dataloader:\n",
    "    aug_images = []\n",
    "\n",
    "    for image in images:\n",
    "      aug_image = aug_pipeline(image) \n",
    "      aug_images.append(aug_image) \n",
    "\n",
    "    aug_images = torch.stack(aug_images)\n",
    "\n",
    "    # Bring data over the device of choice\n",
    "    aug_images = aug_images.to(DEVICE)\n",
    "    labels = labels.to(DEVICE)\n",
    "\n",
    "    net.train() # Sets module in training mode\n",
    "\n",
    "    optimizer.zero_grad() # Zero-ing the gradients\n",
    "\n",
    "    # Forward pass to the network\n",
    "    outputs = net(aug_images)\n",
    "\n",
    "    # Compute loss based on output and ground truth\n",
    "    loss = criterion(outputs, labels)\n",
    "\n",
    "    # Log loss\n",
    "    if current_step % LOG_FREQUENCY == 0:\n",
    "      print('Step {}, Loss {}'.format(current_step, loss.item()))\n",
    "\n",
    "    # Compute gradients for each layer and update weights\n",
    "    loss.backward()  # backward pass: computes gradients\n",
    "    optimizer.step() # update weights based on accumulated gradients\n",
    "\n",
    "    current_step += 1\n",
    "\n",
    "  train_acc, train_loss = evaluate(net, train_dataloader, print_tqdm = False)\n",
    "  train_accuracies.append(train_acc)\n",
    "  train_losses.append(train_loss)\n",
    "  \n",
    "  val_acc, val_loss = evaluate(net, val_dataloader, print_tqdm = False)\n",
    "  val_accuracies.append(val_acc)\n",
    "  val_losses.append(val_loss)\n",
    "\n",
    "  # Step the scheduler\n",
    "  scheduler.step() "
   ]
  },
  {
   "cell_type": "code",
   "execution_count": null,
   "metadata": {
    "colab": {},
    "colab_type": "code",
    "id": "lqG2vNpvEiWi"
   },
   "outputs": [],
   "source": [
    "import pandas as pd\n",
    "import matplotlib.pyplot as plt\n",
    "\n",
    "print(\"Best accuracies on the validation set: \", val_acc)\n",
    "\n",
    "results_df = pd.DataFrame(zip(range(1,NUM_EPOCHS+1), train_accuracies, val_accuracies, train_losses, val_losses), columns = [\"epoch\", \"train_accuracy\", \"val_accuracy\", \"train_loss\", \"val_loss\"])\n",
    "results_df.set_index(\"epoch\")\n",
    "results_df.plot(x = \"epoch\", y = [\"train_accuracy\", \"val_accuracy\"])\n",
    "results_df.plot(x = \"epoch\", y = [\"train_loss\", \"val_loss\"])\n"
   ]
  },
  {
   "cell_type": "markdown",
   "metadata": {
    "colab_type": "text",
    "id": "jxekmR745ySe"
   },
   "source": [
    "**Test**"
   ]
  },
  {
   "cell_type": "code",
   "execution_count": null,
   "metadata": {
    "colab": {},
    "colab_type": "code",
    "id": "fSHcUqLB5yWO"
   },
   "outputs": [],
   "source": [
    "accuracy = evaluate(net, test_dataloader)[0]\n",
    "print('\\nTest Accuracy: {}'.format(accuracy))"
   ]
  }
 ],
 "metadata": {
  "accelerator": "GPU",
  "colab": {
   "collapsed_sections": [],
   "name": "Homework2.ipynb",
   "provenance": [
    {
     "file_id": "1495rzqiMxfqwqBjaanDwDGN7eOS4oXRX",
     "timestamp": 1587905492289
    },
    {
     "file_id": "1PhNPpklp9FbxJEtsZ8Jp9qXQa4aZDK5Y",
     "timestamp": 1586854223220
    }
   ]
  },
  "kernelspec": {
   "display_name": "Python 3",
   "language": "python",
   "name": "python3"
  },
  "language_info": {
   "codemirror_mode": {
    "name": "ipython",
    "version": 3
   },
   "file_extension": ".py",
   "mimetype": "text/x-python",
   "name": "python",
   "nbconvert_exporter": "python",
   "pygments_lexer": "ipython3",
   "version": "3.6.12"
  }
 },
 "nbformat": 4,
 "nbformat_minor": 1
}
