{
 "cells": [
  {
   "cell_type": "markdown",
   "metadata": {
    "colab_type": "text",
    "id": "c9QcGnGPdX2C"
   },
   "source": [
    "\n",
    "**Install requirements**"
   ]
  },
  {
   "cell_type": "code",
   "execution_count": 1,
   "metadata": {
    "colab": {},
    "colab_type": "code",
    "id": "k9O3aM3Tb28q"
   },
   "outputs": [],
   "source": [
    "# !pip3 install 'torch==1.3.1'\n",
    "# !pip3 install 'torchvision==0.5.0'\n",
    "# !pip3 install 'Pillow-SIMD'\n",
    "# !pip3 install 'tqdm'"
   ]
  },
  {
   "cell_type": "markdown",
   "metadata": {
    "colab_type": "text",
    "id": "fo942LMOdlh4"
   },
   "source": [
    "**Import libraries**"
   ]
  },
  {
   "cell_type": "code",
   "execution_count": 2,
   "metadata": {
    "colab": {},
    "colab_type": "code",
    "id": "DokFOdD1dJEl"
   },
   "outputs": [],
   "source": [
    "import os\n",
    "import logging\n",
    "import numpy as np\n",
    "import matplotlib.pyplot as plt \n",
    "from statistics import mean \n",
    "\n",
    "import random\n",
    "import torch\n",
    "import torch.nn as nn\n",
    "import torch.optim as optim\n",
    "from torch.utils.data import Subset, DataLoader\n",
    "from torch.backends import cudnn\n",
    "\n",
    "import torchvision\n",
    "from torchvision import transforms\n",
    "from torchvision.models import alexnet, resnet18, resnet50\n",
    "\n",
    "from PIL import Image\n",
    "from tqdm import tqdm"
   ]
  },
  {
   "cell_type": "markdown",
   "metadata": {
    "colab_type": "text",
    "id": "OIDLJuIXK_vh"
   },
   "source": [
    "**Set Arguments**"
   ]
  },
  {
   "cell_type": "code",
   "execution_count": 3,
   "metadata": {
    "colab": {},
    "colab_type": "code",
    "id": "d5PkYfqfK_SA"
   },
   "outputs": [],
   "source": [
    "DEVICE = 'cuda' # 'cuda' or 'cpu'\n",
    "\n",
    "NUM_CLASSES = 101    # 101 + 1: There is am extra Background class that should be removed \n",
    "\n",
    "BATCH_SIZE = 32     # Higher batch sizes allows for larger learning rates. An empirical heuristic suggests that, when changing\n",
    "                     # the batch size, learning rate should change by the same factor to have comparable results\n",
    "\n",
    "LR = 0.05      # The initial Learning Rate\n",
    "MOMENTUM = 0.9       # Hyperparameter for SGD, keep this at 0.9 when using SGD\n",
    "WEIGHT_DECAY = 5e-5  # Regularization, you can keep this at the default\n",
    "\n",
    "NUM_EPOCHS = 30   # Total number of training epochs (iterations over dataset)\n",
    "STEP_SIZE = 20    # How many epochs before decreasing learning rate (if using a step-down policy)\n",
    "GAMMA = 0.1          # Multiplicative factor for learning rate step-down\n",
    "\n",
    "LOG_FREQUENCY = 5"
   ]
  },
  {
   "cell_type": "code",
   "execution_count": 4,
   "metadata": {
    "colab": {},
    "colab_type": "code",
    "id": "pIHncuIrjylr"
   },
   "outputs": [],
   "source": [
    "PRE_TRAINED = True     # set to True to load the pre-trained AlexNet\n",
    "\n",
    "FREEZING = None        # define which layers of the network will be kept frozen\n",
    "                       # None : train the whole network\n",
    "                       # \"CONV\" : train only the FC-layers\n",
    "                       # \"FC\" : train only the conv-layers\n",
    "\n",
    "AUG_PROB = 0.5   # the probability with witch each image is transformed at training time during each epoch\n",
    "AUG_TYPE = None      # define the type of augmentation pipeline \n",
    "                     # None for no data augmentation\n",
    "                     # \"CS-HF\" for contrast + saturation + horizontal flip\n",
    "                     # \"H-RP\" for hue + random perspective\n",
    "                     # \"B-GS-R\" for brightness + grayscale + rotation "
   ]
  },
  {
   "cell_type": "markdown",
   "metadata": {
    "colab_type": "text",
    "id": "9gwii0TBHvzh"
   },
   "source": [
    "**Define Data Preprocessing and Augmentation**"
   ]
  },
  {
   "cell_type": "code",
   "execution_count": 5,
   "metadata": {
    "colab": {},
    "colab_type": "code",
    "id": "QUDdw4j2H0Mc"
   },
   "outputs": [],
   "source": [
    "if PRE_TRAINED:\n",
    "  normalizer = transforms.Normalize(mean=(0.485, 0.456, 0.406), std=(0.229, 0.224, 0.225))\n",
    "else:\n",
    "  normalizer = transforms.Normalize(mean = (0.5, 0.5, 0.5), std=(0.229, 0.224, 0.225))\n",
    "\n",
    "# Define transforms for training phase\n",
    "train_transform = transforms.Compose([transforms.Resize(256),      # Resizes short size of the PIL image to 256\n",
    "                                      transforms.CenterCrop(224),  # Crops a central square patch of the image\n",
    "                                                                   # 224 because torchvision's AlexNet needs a 224x224 input!\n",
    "                                                                   # Remember this when applying different transformations, otherwise you get an error\n",
    "                                      transforms.ToTensor()\n",
    "])\n",
    "\n",
    "\n",
    "# Define transforms for the evaluation phase\n",
    "eval_transform = transforms.Compose([transforms.Resize(256),\n",
    "                                      transforms.CenterCrop(224), \n",
    "                                     transforms.ToTensor()                               \n",
    "])\n"
   ]
  },
  {
   "cell_type": "code",
   "execution_count": 6,
   "metadata": {
    "colab": {},
    "colab_type": "code",
    "id": "IfY0flp3riZL"
   },
   "outputs": [],
   "source": [
    "bright_t = transforms.ColorJitter(brightness=[1,2])\n",
    "contrast_t = transforms.ColorJitter(contrast = [2,5])\n",
    "saturation_t = transforms.ColorJitter(saturation = [1,3])\n",
    "hue_t = transforms.ColorJitter(hue = 0.2)\n",
    "gs_t = transforms.Grayscale(3)\n",
    "hflip_t = transforms.RandomHorizontalFlip(p = 1)\n",
    "rp_t = transforms.RandomPerspective(p = 1, distortion_scale = 0.5)\n",
    "rot_t = transforms.RandomRotation(degrees = 90)\n",
    "\n",
    "aug_transformations = {\n",
    "    \"CS-HF\": transforms.Compose([contrast_t, saturation_t, hflip_t]),\n",
    "    \"H-RP\": transforms.Compose([hue_t, rp_t]),\n",
    "    \"B-GS-R\": transforms.Compose([bright_t, gs_t, rot_t])\n",
    "    }\n",
    "\n",
    "if AUG_TYPE is not None:\n",
    "  aug_transformation = aug_transformations[AUG_TYPE]\n",
    "  aug_pipeline = transforms.Compose([ \n",
    "                                      transforms.ToPILImage(),\n",
    "                                      transforms.RandomApply([aug_transformation], p = AUG_PROB),\n",
    "                                      transforms.ToTensor(),\n",
    "                                      normalizer\n",
    "                                     ])\n",
    "else:\n",
    "  aug_pipeline = normalizer\n"
   ]
  },
  {
   "cell_type": "markdown",
   "metadata": {
    "colab_type": "text",
    "id": "2qYIHPzYLY7i"
   },
   "source": [
    "**Prepare Dataset**"
   ]
  },
  {
   "cell_type": "code",
   "execution_count": 7,
   "metadata": {
    "colab": {},
    "colab_type": "code",
    "id": "QfVq_uDHLbsR"
   },
   "outputs": [
    {
     "name": "stdout",
     "output_type": "stream",
     "text": [
      "Train Dataset: 2892\n",
      "Valid Dataset: 2892\n",
      "Test Dataset: 2893\n"
     ]
    }
   ],
   "source": [
    "# Clone github repository with data\n",
    "if not os.path.isdir('./Caltech101'):\n",
    "  !git clone https://github.com/MachineLearning2020/Homework2-Caltech101.git\n",
    "  !mv 'Homework2-Caltech101' 'Caltech101'\n",
    "  !git clone https://github.com/frattinfabio/MLDL-hw2-DL.git\n",
    "  !mv 'MLDL-hw2-DL/caltech_dataset.py' 'Caltech101/caltech_dataset.py' \n",
    "\n",
    "DATA_DIR = 'Caltech101/101_ObjectCategories'\n",
    "from Caltech101.caltech_dataset import Caltech\n",
    "from sklearn.model_selection import train_test_split\n",
    "\n",
    "# Prepare Pytorch train/test Datasets\n",
    "train_dataset_big = Caltech(DATA_DIR, split='train',  transform=train_transform)\n",
    "test_dataset = Caltech(DATA_DIR, split='test', transform=eval_transform)\n",
    "\n",
    "indexes = range(0, len(train_dataset_big))\n",
    "splitting = train_test_split(indexes, train_size = 0.5, random_state = 42, stratify = train_dataset_big.data[\"label\"], shuffle = True)\n",
    "train_indexes = splitting[0]\n",
    "val_indexes = splitting[1]\n",
    "\n",
    "train_dataset = Subset(train_dataset_big, train_indexes)\n",
    "val_dataset = Subset(train_dataset_big, val_indexes)\n",
    "\n",
    "# Check dataset sizes\n",
    "print('Train Dataset: {}'.format(len(train_dataset)))\n",
    "print('Valid Dataset: {}'.format(len(val_dataset)))\n",
    "print('Test Dataset: {}'.format(len(test_dataset)))"
   ]
  },
  {
   "cell_type": "markdown",
   "metadata": {
    "colab_type": "text",
    "id": "FYEDQ7Z21ldN"
   },
   "source": [
    "**Prepare Dataloaders**"
   ]
  },
  {
   "cell_type": "code",
   "execution_count": 8,
   "metadata": {
    "colab": {},
    "colab_type": "code",
    "id": "VriRw8SI1nle"
   },
   "outputs": [],
   "source": [
    "# Dataloaders iterate over pytorch datasets and transparently provide useful functions (e.g. parallelization and shuffling)\n",
    "train_dataloader = DataLoader(train_dataset, batch_size=BATCH_SIZE, shuffle=True, num_workers=4, drop_last=True)\n",
    "val_dataloader = DataLoader(val_dataset, batch_size=BATCH_SIZE, shuffle=False, num_workers=4)\n",
    "\n",
    "test_dataloader = DataLoader(test_dataset, batch_size=BATCH_SIZE, shuffle=False, num_workers=4)"
   ]
  },
  {
   "cell_type": "code",
   "execution_count": 9,
   "metadata": {
    "colab": {},
    "colab_type": "code",
    "id": "jNSah-oW8cLo"
   },
   "outputs": [],
   "source": [
    "def showimage(tensor):\n",
    "  plt.imshow(tensor.permute(1,2,0))"
   ]
  },
  {
   "cell_type": "code",
   "execution_count": 10,
   "metadata": {
    "colab": {},
    "colab_type": "code",
    "id": "XrDkVq14st6F"
   },
   "outputs": [
    {
     "name": "stderr",
     "output_type": "stream",
     "text": [
      "Clipping input data to the valid range for imshow with RGB data ([0..1] for floats or [0..255] for integers).\n"
     ]
    },
    {
     "data": {
      "image/png": "[encoded data removed]",
      "text/plain": [
       "<Figure size 432x288 with 1 Axes>"
      ]
     },
     "metadata": {
      "needs_background": "light"
     },
     "output_type": "display_data"
    }
   ],
   "source": [
    "%matplotlib inline\n",
    "showimage(aug_pipeline(train_dataloader.dataset.__getitem__(4)[0]))"
   ]
  },
  {
   "cell_type": "markdown",
   "metadata": {
    "colab_type": "text",
    "id": "gbZ1t5Qs2z4j"
   },
   "source": [
    "**Prepare Network**"
   ]
  },
  {
   "cell_type": "code",
   "execution_count": 11,
   "metadata": {
    "colab": {},
    "colab_type": "code",
    "id": "exHUjtXa22DN"
   },
   "outputs": [],
   "source": [
    "# net = alexnet(pretrained= PRE_TRAINED) # Loading AlexNet model\n",
    "# net.classifier[6] = nn.Linear(4096, NUM_CLASSES)\n",
    "\n",
    "net = resnet50(pretrained=PRE_TRAINED)\n",
    "net.fc = nn.Linear(net.fc.in_features, NUM_CLASSES)"
   ]
  },
  {
   "cell_type": "markdown",
   "metadata": {
    "colab_type": "text",
    "id": "KEyL3H_R4qCf"
   },
   "source": [
    "**Prepare Training**"
   ]
  },
  {
   "cell_type": "code",
   "execution_count": 12,
   "metadata": {
    "colab": {},
    "colab_type": "code",
    "id": "9sjq00G94tSc"
   },
   "outputs": [],
   "source": [
    "# Define loss function\n",
    "criterion = nn.CrossEntropyLoss() # for classification, we use Cross Entropy\n",
    "\n",
    "# Choose parameters to optimize\n",
    "# e.g.: parameters of the whole network: net.parameters()\n",
    "# e.g.: parameters of the fully connected layers: net.classifier.parameters()\n",
    "# e.g.: parameters of the convolutional layers: net.features.parameters() or net.fc.parameters()\n",
    "if FREEZING is not None:\n",
    "  if FREEZING == \"FC\":\n",
    "    parameters_to_optimize = net.features.parameters() \n",
    "  else:\n",
    "    # parameters_to_optimize = net.classifier.parameters()\n",
    "    parameters_to_optimize = net.fc.parameters()\n",
    "else:\n",
    "  parameters_to_optimize = net.parameters()\n",
    "\n",
    "# Define optimizer\n",
    "# An optimizer updates the weights based on loss\n",
    "# We use SGD with momentum\n",
    "optimizer = optim.SGD(parameters_to_optimize, lr=LR, momentum=MOMENTUM, weight_decay=WEIGHT_DECAY)\n",
    "\n",
    "# Define scheduler\n",
    "# A scheduler dynamically changes learning rate\n",
    "# The most common schedule is the step(-down), which multiplies learning rate by gamma every STEP_SIZE epochs\n",
    "scheduler = optim.lr_scheduler.StepLR(optimizer, step_size=STEP_SIZE, gamma=GAMMA)"
   ]
  },
  {
   "cell_type": "markdown",
   "metadata": {
    "colab_type": "text",
    "id": "UsHFI-GAJd69"
   },
   "source": [
    "**Validation**"
   ]
  },
  {
   "cell_type": "code",
   "execution_count": 13,
   "metadata": {
    "colab": {},
    "colab_type": "code",
    "id": "EO3HV5pqJg1o"
   },
   "outputs": [],
   "source": [
    "def evaluate(net, dataloader, print_tqdm = True):\n",
    "  with torch.no_grad():\n",
    "    net = net.to(DEVICE) # this will bring the network to GPU if DEVICE is cuda\n",
    "    net.train(False) # Set Network to evaluation mode\n",
    "    running_corrects = 0\n",
    "    iterable = tqdm(dataloader) if print_tqdm else dataloader\n",
    "    losses = []\n",
    "    for images, labels in iterable: \n",
    "      norm_images = []\n",
    "      for image in images:\n",
    "        norm_image = normalizer(image)\n",
    "        norm_images.append(norm_image)\n",
    "      norm_images = torch.stack(norm_images)  \n",
    "      norm_images = norm_images.to(DEVICE)\n",
    "      labels = labels.to(DEVICE)\n",
    "      # Forward Pass\n",
    "      outputs = net(norm_images)\n",
    "      loss = criterion(outputs, labels)\n",
    "      losses.append(loss.item())\n",
    "      # Get predictions\n",
    "      _, preds = torch.max(outputs.data, 1)\n",
    "      # Update Corrects\n",
    "      running_corrects += torch.sum(preds == labels.data).data.item()\n",
    "    # Calculate Accuracy\n",
    "    accuracy = running_corrects / float(len(dataloader.dataset))\n",
    "\n",
    "  return accuracy, mean(losses)"
   ]
  },
  {
   "cell_type": "markdown",
   "metadata": {
    "colab_type": "text",
    "id": "AxYUli9d9uYQ"
   },
   "source": [
    "**Train and Validation**"
   ]
  },
  {
   "cell_type": "code",
   "execution_count": 14,
   "metadata": {
    "colab": {},
    "colab_type": "code",
    "id": "ZcoQ5fD49yT_"
   },
   "outputs": [
    {
     "name": "stdout",
     "output_type": "stream",
     "text": [
      "Starting epoch 1/30, LR = [0.05]\n",
      "Step 0, Loss 4.578166484832764\n",
      "Step 5, Loss 3.995826482772827\n",
      "Step 10, Loss 3.309581756591797\n",
      "Step 15, Loss 5.622054100036621\n",
      "Step 20, Loss 6.405010223388672\n",
      "Step 25, Loss 4.768737316131592\n",
      "Step 30, Loss 5.250072479248047\n",
      "Step 35, Loss 4.769017696380615\n",
      "Step 40, Loss 4.697263240814209\n",
      "Step 45, Loss 4.192816734313965\n",
      "Step 50, Loss 4.335138320922852\n",
      "Step 55, Loss 4.22960901260376\n",
      "Step 60, Loss 4.17182731628418\n",
      "Step 65, Loss 3.9820940494537354\n",
      "Step 70, Loss 4.053613185882568\n",
      "Step 75, Loss 4.283588409423828\n",
      "Step 80, Loss 4.169053077697754\n",
      "Step 85, Loss 4.073029518127441\n",
      "Starting epoch 2/30, LR = [0.05]\n",
      "Step 90, Loss 3.9167561531066895\n",
      "Step 95, Loss 3.5648300647735596\n",
      "Step 100, Loss 4.05512809753418\n",
      "Step 105, Loss 4.002499580383301\n",
      "Step 110, Loss 3.9897496700286865\n",
      "Step 115, Loss 4.062751770019531\n",
      "Step 120, Loss 3.884197950363159\n",
      "Step 125, Loss 3.75349497795105\n",
      "Step 130, Loss 4.374307632446289\n",
      "Step 135, Loss 4.100374698638916\n",
      "Step 140, Loss 3.974167585372925\n",
      "Step 145, Loss 3.8846659660339355\n",
      "Step 150, Loss 3.7133378982543945\n",
      "Step 155, Loss 3.9274232387542725\n",
      "Step 160, Loss 3.3594281673431396\n",
      "Step 165, Loss 3.448347568511963\n",
      "Step 170, Loss 3.572697877883911\n",
      "Step 175, Loss 3.462782859802246\n",
      "Starting epoch 3/30, LR = [0.05]\n",
      "Step 180, Loss 3.0926284790039062\n",
      "Step 185, Loss 3.7501347064971924\n",
      "Step 190, Loss 3.57187557220459\n",
      "Step 195, Loss 3.81289005279541\n",
      "Step 200, Loss 4.008176803588867\n",
      "Step 205, Loss 3.7634201049804688\n",
      "Step 210, Loss 3.7757675647735596\n",
      "Step 215, Loss 3.7747442722320557\n",
      "Step 220, Loss 3.7361679077148438\n",
      "Step 225, Loss 3.4390153884887695\n",
      "Step 230, Loss 3.5504584312438965\n",
      "Step 235, Loss 3.2614169120788574\n",
      "Step 240, Loss 3.3200950622558594\n",
      "Step 245, Loss 3.6380774974823\n",
      "Step 250, Loss 3.7670376300811768\n",
      "Step 255, Loss 3.642385482788086\n",
      "Step 260, Loss 3.482053279876709\n",
      "Step 265, Loss 3.4539642333984375\n",
      "Starting epoch 4/30, LR = [0.05]\n",
      "Step 270, Loss 3.2020323276519775\n",
      "Step 275, Loss 3.714005708694458\n",
      "Step 280, Loss 3.3971807956695557\n",
      "Step 285, Loss 3.2348666191101074\n",
      "Step 290, Loss 3.0677480697631836\n",
      "Step 295, Loss 3.657757520675659\n",
      "Step 300, Loss 3.1645584106445312\n",
      "Step 305, Loss 3.186129570007324\n",
      "Step 310, Loss 3.546382188796997\n",
      "Step 315, Loss 3.5146336555480957\n",
      "Step 320, Loss 3.199723243713379\n",
      "Step 325, Loss 2.592519760131836\n",
      "Step 330, Loss 3.2108168601989746\n",
      "Step 335, Loss 3.2857251167297363\n",
      "Step 340, Loss 3.3786509037017822\n",
      "Step 345, Loss 3.5803632736206055\n",
      "Step 350, Loss 4.206048488616943\n",
      "Step 355, Loss 3.495063304901123\n",
      "Starting epoch 5/30, LR = [0.05]\n",
      "Step 360, Loss 2.8292603492736816\n",
      "Step 365, Loss 3.8030152320861816\n",
      "Step 370, Loss 2.991117477416992\n",
      "Step 375, Loss 3.092710494995117\n",
      "Step 380, Loss 3.0059056282043457\n",
      "Step 385, Loss 3.332887887954712\n",
      "Step 390, Loss 2.8407747745513916\n",
      "Step 395, Loss 3.4036059379577637\n",
      "Step 400, Loss 3.0527470111846924\n",
      "Step 405, Loss 3.156329393386841\n",
      "Step 410, Loss 2.8930752277374268\n",
      "Step 415, Loss 3.460798978805542\n",
      "Step 420, Loss 3.229001998901367\n",
      "Step 425, Loss 3.686478614807129\n",
      "Step 430, Loss 2.987826347351074\n",
      "Step 435, Loss 3.4511380195617676\n",
      "Step 440, Loss 3.133772373199463\n",
      "Step 445, Loss 3.198091506958008\n",
      "Starting epoch 6/30, LR = [0.05]\n",
      "Step 450, Loss 2.6958582401275635\n",
      "Step 455, Loss 2.550340175628662\n",
      "Step 460, Loss 2.9141807556152344\n",
      "Step 465, Loss 2.867400884628296\n",
      "Step 470, Loss 2.615436553955078\n",
      "Step 475, Loss 3.0912816524505615\n",
      "Step 480, Loss 2.7020974159240723\n",
      "Step 485, Loss 3.5633726119995117\n",
      "Step 490, Loss 3.0679359436035156\n",
      "Step 495, Loss 2.97259783744812\n",
      "Step 500, Loss 2.6378896236419678\n",
      "Step 505, Loss 2.869843006134033\n",
      "Step 510, Loss 3.38542103767395\n",
      "Step 515, Loss 2.869396209716797\n",
      "Step 520, Loss 3.5241217613220215\n",
      "Step 525, Loss 3.534045696258545\n",
      "Step 530, Loss 2.858163833618164\n",
      "Step 535, Loss 2.4987857341766357\n",
      "Starting epoch 7/30, LR = [0.05]\n",
      "Step 540, Loss 3.265702962875366\n",
      "Step 545, Loss 2.693178653717041\n",
      "Step 550, Loss 2.4963700771331787\n",
      "Step 555, Loss 2.3541271686553955\n",
      "Step 560, Loss 2.281076431274414\n",
      "Step 565, Loss 2.8655431270599365\n",
      "Step 570, Loss 2.7516560554504395\n",
      "Step 575, Loss 2.536240339279175\n",
      "Step 580, Loss 2.536856174468994\n",
      "Step 585, Loss 2.939720630645752\n",
      "Step 590, Loss 2.923523187637329\n",
      "Step 595, Loss 3.4014110565185547\n",
      "Step 600, Loss 2.504413604736328\n",
      "Step 605, Loss 2.819220781326294\n",
      "Step 610, Loss 3.6209557056427\n",
      "Step 615, Loss 2.8371219635009766\n",
      "Step 620, Loss 2.3718533515930176\n",
      "Step 625, Loss 2.7488977909088135\n",
      "Starting epoch 8/30, LR = [0.05]\n",
      "Step 630, Loss 2.856034278869629\n",
      "Step 635, Loss 3.0282411575317383\n",
      "Step 640, Loss 2.747925281524658\n",
      "Step 645, Loss 2.376490354537964\n",
      "Step 650, Loss 2.1710245609283447\n",
      "Step 655, Loss 2.6326775550842285\n",
      "Step 660, Loss 2.361398696899414\n",
      "Step 665, Loss 1.929478645324707\n",
      "Step 670, Loss 2.549159049987793\n",
      "Step 675, Loss 2.297924280166626\n",
      "Step 680, Loss 2.449629306793213\n",
      "Step 685, Loss 2.906487464904785\n",
      "Step 690, Loss 2.3327887058258057\n",
      "Step 695, Loss 2.7632603645324707\n",
      "Step 700, Loss 2.2399518489837646\n",
      "Step 705, Loss 2.250905990600586\n",
      "Step 710, Loss 2.251549005508423\n",
      "Step 715, Loss 2.3279945850372314\n",
      "Starting epoch 9/30, LR = [0.05]\n",
      "Step 720, Loss 2.139650583267212\n",
      "Step 725, Loss 2.3482539653778076\n",
      "Step 730, Loss 1.7918951511383057\n",
      "Step 735, Loss 2.9279181957244873\n",
      "Step 740, Loss 2.287973403930664\n",
      "Step 745, Loss 1.848117470741272\n",
      "Step 750, Loss 2.0017027854919434\n",
      "Step 755, Loss 2.4932405948638916\n",
      "Step 760, Loss 2.7246792316436768\n",
      "Step 765, Loss 2.356954574584961\n",
      "Step 770, Loss 2.4728074073791504\n",
      "Step 775, Loss 2.571221113204956\n",
      "Step 780, Loss 2.357041358947754\n",
      "Step 785, Loss 2.494884729385376\n",
      "Step 790, Loss 2.285640001296997\n",
      "Step 795, Loss 2.056821346282959\n",
      "Step 800, Loss 2.4473061561584473\n",
      "Step 805, Loss 2.4146249294281006\n",
      "Starting epoch 10/30, LR = [0.05]\n",
      "Step 810, Loss 2.0175228118896484\n",
      "Step 815, Loss 2.4318161010742188\n",
      "Step 820, Loss 2.147937536239624\n",
      "Step 825, Loss 2.096956968307495\n",
      "Step 830, Loss 3.457401752471924\n",
      "Step 835, Loss 1.7370705604553223\n",
      "Step 840, Loss 2.6271281242370605\n",
      "Step 845, Loss 2.041698932647705\n",
      "Step 850, Loss 1.9288249015808105\n",
      "Step 855, Loss 2.243492603302002\n",
      "Step 860, Loss 2.4081344604492188\n",
      "Step 865, Loss 1.948435664176941\n",
      "Step 870, Loss 2.469226837158203\n",
      "Step 875, Loss 2.098679304122925\n",
      "Step 880, Loss 1.5747520923614502\n",
      "Step 885, Loss 2.217041015625\n",
      "Step 890, Loss 2.2750723361968994\n",
      "Step 895, Loss 1.710937738418579\n",
      "Starting epoch 11/30, LR = [0.05]\n",
      "Step 900, Loss 1.8965826034545898\n",
      "Step 905, Loss 1.981451153755188\n",
      "Step 910, Loss 2.477065324783325\n",
      "Step 915, Loss 1.7634057998657227\n",
      "Step 920, Loss 1.5088638067245483\n",
      "Step 925, Loss 2.0123958587646484\n",
      "Step 930, Loss 1.596113920211792\n",
      "Step 935, Loss 2.510965585708618\n",
      "Step 940, Loss 2.118263006210327\n",
      "Step 945, Loss 1.626435399055481\n",
      "Step 950, Loss 1.9589509963989258\n",
      "Step 955, Loss 2.024911642074585\n",
      "Step 960, Loss 1.8251893520355225\n",
      "Step 965, Loss 1.9434574842453003\n",
      "Step 970, Loss 2.1684439182281494\n",
      "Step 975, Loss 2.049555778503418\n",
      "Step 980, Loss 2.0901832580566406\n",
      "Step 985, Loss 2.6797447204589844\n",
      "Starting epoch 12/30, LR = [0.05]\n",
      "Step 990, Loss 2.0951437950134277\n",
      "Step 995, Loss 2.3216826915740967\n",
      "Step 1000, Loss 1.8970280885696411\n",
      "Step 1005, Loss 1.7267982959747314\n",
      "Step 1010, Loss 1.7831603288650513\n",
      "Step 1015, Loss 1.755271077156067\n",
      "Step 1020, Loss 1.972412347793579\n",
      "Step 1025, Loss 2.2402219772338867\n",
      "Step 1030, Loss 1.627831220626831\n",
      "Step 1035, Loss 2.0820229053497314\n",
      "Step 1040, Loss 2.1392464637756348\n",
      "Step 1045, Loss 1.4463623762130737\n",
      "Step 1050, Loss 1.7410017251968384\n",
      "Step 1055, Loss 1.6355836391448975\n",
      "Step 1060, Loss 1.5045585632324219\n",
      "Step 1065, Loss 1.771781086921692\n",
      "Step 1070, Loss 2.021702766418457\n",
      "Step 1075, Loss 1.8270848989486694\n",
      "Starting epoch 13/30, LR = [0.05]\n",
      "Step 1080, Loss 1.4209398031234741\n",
      "Step 1085, Loss 1.470659613609314\n",
      "Step 1090, Loss 1.590468406677246\n",
      "Step 1095, Loss 1.4269133806228638\n",
      "Step 1100, Loss 1.3876402378082275\n",
      "Step 1105, Loss 1.748854637145996\n",
      "Step 1110, Loss 2.46085262298584\n",
      "Step 1115, Loss 1.0615559816360474\n",
      "Step 1120, Loss 1.6666754484176636\n",
      "Step 1125, Loss 1.574619174003601\n",
      "Step 1130, Loss 1.9542484283447266\n",
      "Step 1135, Loss 1.5954548120498657\n",
      "Step 1140, Loss 1.85752534866333\n",
      "Step 1145, Loss 1.878288745880127\n",
      "Step 1150, Loss 2.413780927658081\n",
      "Step 1155, Loss 1.3841230869293213\n",
      "Step 1160, Loss 1.568363904953003\n"
     ]
    },
    {
     "name": "stdout",
     "output_type": "stream",
     "text": [
      "Step 1165, Loss 2.425715208053589\n",
      "Starting epoch 14/30, LR = [0.05]\n",
      "Step 1170, Loss 1.4646135568618774\n",
      "Step 1175, Loss 1.489001989364624\n",
      "Step 1180, Loss 1.945500135421753\n",
      "Step 1185, Loss 1.069153904914856\n",
      "Step 1190, Loss 1.1599715948104858\n",
      "Step 1195, Loss 1.6056647300720215\n",
      "Step 1200, Loss 0.794392466545105\n",
      "Step 1205, Loss 2.110522747039795\n",
      "Step 1210, Loss 1.2245666980743408\n",
      "Step 1215, Loss 1.7177748680114746\n",
      "Step 1220, Loss 2.0472989082336426\n",
      "Step 1225, Loss 1.482536792755127\n",
      "Step 1230, Loss 1.0875704288482666\n",
      "Step 1235, Loss 1.821629285812378\n",
      "Step 1240, Loss 1.7175461053848267\n",
      "Step 1245, Loss 1.4184650182724\n",
      "Step 1250, Loss 2.2009971141815186\n",
      "Step 1255, Loss 1.898235559463501\n",
      "Starting epoch 15/30, LR = [0.05]\n",
      "Step 1260, Loss 0.989317774772644\n",
      "Step 1265, Loss 0.8618841767311096\n",
      "Step 1270, Loss 1.3532249927520752\n",
      "Step 1275, Loss 1.3747072219848633\n",
      "Step 1280, Loss 1.2519793510437012\n",
      "Step 1285, Loss 1.346702218055725\n",
      "Step 1290, Loss 1.4832936525344849\n",
      "Step 1295, Loss 1.6318989992141724\n",
      "Step 1300, Loss 1.6280889511108398\n",
      "Step 1305, Loss 1.4207431077957153\n",
      "Step 1310, Loss 1.3466966152191162\n",
      "Step 1315, Loss 1.0411179065704346\n",
      "Step 1320, Loss 1.778983473777771\n",
      "Step 1325, Loss 1.2929019927978516\n",
      "Step 1330, Loss 1.5160531997680664\n",
      "Step 1335, Loss 1.3380014896392822\n",
      "Step 1340, Loss 1.228987693786621\n",
      "Step 1345, Loss 1.6336091756820679\n",
      "Starting epoch 16/30, LR = [0.05]\n",
      "Step 1350, Loss 1.055166482925415\n",
      "Step 1355, Loss 1.1954333782196045\n",
      "Step 1360, Loss 1.24910306930542\n",
      "Step 1365, Loss 1.2580305337905884\n",
      "Step 1370, Loss 1.0748144388198853\n",
      "Step 1375, Loss 1.37871253490448\n",
      "Step 1380, Loss 1.3164962530136108\n",
      "Step 1385, Loss 1.1326243877410889\n",
      "Step 1390, Loss 1.0777724981307983\n",
      "Step 1395, Loss 1.164292812347412\n",
      "Step 1400, Loss 1.4962290525436401\n",
      "Step 1405, Loss 1.3870748281478882\n",
      "Step 1410, Loss 1.1864917278289795\n",
      "Step 1415, Loss 1.5423840284347534\n",
      "Step 1420, Loss 1.4177842140197754\n",
      "Step 1425, Loss 1.1603336334228516\n",
      "Step 1430, Loss 1.3328567743301392\n",
      "Step 1435, Loss 0.7865647077560425\n",
      "Starting epoch 17/30, LR = [0.05]\n",
      "Step 1440, Loss 1.2981956005096436\n",
      "Step 1445, Loss 0.7342036962509155\n",
      "Step 1450, Loss 0.8304582238197327\n",
      "Step 1455, Loss 1.271884799003601\n",
      "Step 1460, Loss 0.7292196750640869\n",
      "Step 1465, Loss 1.0639020204544067\n",
      "Step 1470, Loss 1.074467658996582\n",
      "Step 1475, Loss 0.707949697971344\n",
      "Step 1480, Loss 0.8552594780921936\n",
      "Step 1485, Loss 0.6509365439414978\n",
      "Step 1490, Loss 1.5007281303405762\n",
      "Step 1495, Loss 0.9819583892822266\n",
      "Step 1500, Loss 1.0344303846359253\n",
      "Step 1505, Loss 1.1088745594024658\n",
      "Step 1510, Loss 1.2212947607040405\n",
      "Step 1515, Loss 0.630858302116394\n",
      "Step 1520, Loss 1.3962539434432983\n",
      "Step 1525, Loss 1.0914180278778076\n",
      "Starting epoch 18/30, LR = [0.05]\n",
      "Step 1530, Loss 0.6299992203712463\n",
      "Step 1535, Loss 0.5950778722763062\n",
      "Step 1540, Loss 0.5245064496994019\n",
      "Step 1545, Loss 0.6821893453598022\n",
      "Step 1550, Loss 0.7376719117164612\n",
      "Step 1555, Loss 0.7775185108184814\n",
      "Step 1560, Loss 0.948449969291687\n",
      "Step 1565, Loss 0.6098901629447937\n",
      "Step 1570, Loss 0.9819099307060242\n",
      "Step 1575, Loss 0.9821268916130066\n",
      "Step 1580, Loss 0.8657884001731873\n",
      "Step 1585, Loss 1.2836452722549438\n",
      "Step 1590, Loss 1.070612907409668\n",
      "Step 1595, Loss 1.156157374382019\n",
      "Step 1600, Loss 1.1357672214508057\n",
      "Step 1605, Loss 1.091208815574646\n",
      "Step 1610, Loss 1.3917112350463867\n",
      "Step 1615, Loss 1.1726082563400269\n",
      "Starting epoch 19/30, LR = [0.05]\n",
      "Step 1620, Loss 0.7144731283187866\n",
      "Step 1625, Loss 0.9188003540039062\n",
      "Step 1630, Loss 0.9681198596954346\n",
      "Step 1635, Loss 0.8838798999786377\n",
      "Step 1640, Loss 0.7138530015945435\n",
      "Step 1645, Loss 0.696841299533844\n",
      "Step 1650, Loss 1.1434904336929321\n",
      "Step 1655, Loss 0.5375798344612122\n",
      "Step 1660, Loss 0.6029660701751709\n",
      "Step 1665, Loss 0.5527765154838562\n",
      "Step 1670, Loss 1.0947842597961426\n",
      "Step 1675, Loss 0.6787700653076172\n",
      "Step 1680, Loss 0.7641652226448059\n",
      "Step 1685, Loss 0.9376989603042603\n",
      "Step 1690, Loss 0.9366101026535034\n",
      "Step 1695, Loss 0.7691720128059387\n",
      "Step 1700, Loss 1.128157138824463\n",
      "Step 1705, Loss 0.9821844696998596\n",
      "Starting epoch 20/30, LR = [0.05]\n",
      "Step 1710, Loss 0.8191168904304504\n",
      "Step 1715, Loss 0.8963344097137451\n",
      "Step 1720, Loss 0.5120319724082947\n",
      "Step 1725, Loss 0.580238938331604\n",
      "Step 1730, Loss 0.8355065584182739\n",
      "Step 1735, Loss 0.4361608028411865\n",
      "Step 1740, Loss 0.4405285716056824\n",
      "Step 1745, Loss 0.9166548848152161\n",
      "Step 1750, Loss 0.7156376242637634\n",
      "Step 1755, Loss 0.4483977258205414\n",
      "Step 1760, Loss 0.7833284139633179\n",
      "Step 1765, Loss 0.8063400387763977\n",
      "Step 1770, Loss 0.7018951177597046\n",
      "Step 1775, Loss 0.799168586730957\n",
      "Step 1780, Loss 1.2335227727890015\n",
      "Step 1785, Loss 0.8583394885063171\n",
      "Step 1790, Loss 0.6510332226753235\n",
      "Step 1795, Loss 0.5611107349395752\n",
      "Starting epoch 21/30, LR = [0.005000000000000001]\n",
      "Step 1800, Loss 0.6777893304824829\n",
      "Step 1805, Loss 0.43295809626579285\n",
      "Step 1810, Loss 0.41541677713394165\n",
      "Step 1815, Loss 0.42421236634254456\n",
      "Step 1820, Loss 0.40837064385414124\n",
      "Step 1825, Loss 0.3908180296421051\n",
      "Step 1830, Loss 0.3305812478065491\n",
      "Step 1835, Loss 0.23308102786540985\n",
      "Step 1840, Loss 0.26628297567367554\n",
      "Step 1845, Loss 0.1303473263978958\n",
      "Step 1850, Loss 0.1382606476545334\n",
      "Step 1855, Loss 0.23219935595989227\n",
      "Step 1860, Loss 0.14207802712917328\n",
      "Step 1865, Loss 0.2688876986503601\n",
      "Step 1870, Loss 0.15705089271068573\n",
      "Step 1875, Loss 0.1698465347290039\n",
      "Step 1880, Loss 0.3826994001865387\n",
      "Step 1885, Loss 0.26252880692481995\n",
      "Starting epoch 22/30, LR = [0.005000000000000001]\n",
      "Step 1890, Loss 0.31266406178474426\n",
      "Step 1895, Loss 0.21362146735191345\n",
      "Step 1900, Loss 0.10182669758796692\n",
      "Step 1905, Loss 0.17581024765968323\n",
      "Step 1910, Loss 0.15202048420906067\n",
      "Step 1915, Loss 0.10228437185287476\n",
      "Step 1920, Loss 0.22588123381137848\n",
      "Step 1925, Loss 0.11268682777881622\n",
      "Step 1930, Loss 0.08739456534385681\n",
      "Step 1935, Loss 0.25188055634498596\n",
      "Step 1940, Loss 0.05497753620147705\n",
      "Step 1945, Loss 0.10828745365142822\n",
      "Step 1950, Loss 0.14700156450271606\n",
      "Step 1955, Loss 0.10284098982810974\n",
      "Step 1960, Loss 0.1957094967365265\n",
      "Step 1965, Loss 0.10555464029312134\n",
      "Step 1970, Loss 0.03372642397880554\n",
      "Step 1975, Loss 0.13747215270996094\n",
      "Starting epoch 23/30, LR = [0.005000000000000001]\n",
      "Step 1980, Loss 0.06633079051971436\n",
      "Step 1985, Loss 0.0856618583202362\n",
      "Step 1990, Loss 0.04418286681175232\n",
      "Step 1995, Loss 0.343689888715744\n",
      "Step 2000, Loss 0.14580538868904114\n",
      "Step 2005, Loss 0.1879396140575409\n",
      "Step 2010, Loss 0.14278337359428406\n",
      "Step 2015, Loss 0.04583510756492615\n",
      "Step 2020, Loss 0.031755685806274414\n",
      "Step 2025, Loss 0.0901469886302948\n",
      "Step 2030, Loss 0.14912652969360352\n",
      "Step 2035, Loss 0.1149122416973114\n",
      "Step 2040, Loss 0.07403036952018738\n",
      "Step 2045, Loss 0.06114313006401062\n",
      "Step 2050, Loss 0.11745908856391907\n",
      "Step 2055, Loss 0.055192530155181885\n",
      "Step 2060, Loss 0.07931983470916748\n",
      "Step 2065, Loss 0.028981506824493408\n",
      "Starting epoch 24/30, LR = [0.005000000000000001]\n",
      "Step 2070, Loss 0.0359216034412384\n",
      "Step 2075, Loss 0.10903486609458923\n",
      "Step 2080, Loss 0.03339985013008118\n",
      "Step 2085, Loss 0.22075840830802917\n",
      "Step 2090, Loss 0.08287829160690308\n",
      "Step 2095, Loss 0.0567164421081543\n",
      "Step 2100, Loss 0.031742751598358154\n",
      "Step 2105, Loss 0.23821797966957092\n",
      "Step 2110, Loss 0.022388607263565063\n",
      "Step 2115, Loss 0.07641425728797913\n",
      "Step 2120, Loss 0.12237247824668884\n",
      "Step 2125, Loss 0.041933536529541016\n",
      "Step 2130, Loss 0.03548493981361389\n",
      "Step 2135, Loss 0.038699716329574585\n",
      "Step 2140, Loss 0.036896467208862305\n",
      "Step 2145, Loss 0.042507559061050415\n",
      "Step 2150, Loss 0.03126081824302673\n",
      "Step 2155, Loss 0.11798188090324402\n",
      "Starting epoch 25/30, LR = [0.005000000000000001]\n",
      "Step 2160, Loss 0.029917389154434204\n",
      "Step 2165, Loss 0.06232541799545288\n",
      "Step 2170, Loss 0.013096809387207031\n",
      "Step 2175, Loss 0.11442431807518005\n",
      "Step 2180, Loss 0.060685187578201294\n",
      "Step 2185, Loss 0.05666381120681763\n",
      "Step 2190, Loss 0.06628799438476562\n",
      "Step 2195, Loss 0.058304786682128906\n",
      "Step 2200, Loss 0.05504941940307617\n",
      "Step 2205, Loss 0.05541786551475525\n",
      "Step 2210, Loss 0.01465541124343872\n",
      "Step 2215, Loss 0.04141277074813843\n",
      "Step 2220, Loss 0.056962162256240845\n",
      "Step 2225, Loss 0.053842246532440186\n",
      "Step 2230, Loss 0.049072712659835815\n",
      "Step 2235, Loss 0.031034022569656372\n",
      "Step 2240, Loss 0.044160425662994385\n",
      "Step 2245, Loss 0.03697344660758972\n",
      "Starting epoch 26/30, LR = [0.005000000000000001]\n",
      "Step 2250, Loss 0.05460461974143982\n"
     ]
    },
    {
     "name": "stdout",
     "output_type": "stream",
     "text": [
      "Step 2255, Loss 0.060829728841781616\n",
      "Step 2260, Loss 0.08874061703681946\n",
      "Step 2265, Loss 0.06823316216468811\n",
      "Step 2270, Loss 0.012026041746139526\n",
      "Step 2275, Loss 0.03877267241477966\n",
      "Step 2280, Loss 0.03863030672073364\n",
      "Step 2285, Loss 0.049927741289138794\n",
      "Step 2290, Loss 0.06617516279220581\n",
      "Step 2295, Loss 0.05527544021606445\n",
      "Step 2300, Loss 0.012389719486236572\n",
      "Step 2305, Loss 0.04851672053337097\n",
      "Step 2310, Loss 0.0698496401309967\n",
      "Step 2315, Loss 0.030796080827713013\n",
      "Step 2320, Loss 0.03305351734161377\n",
      "Step 2325, Loss 0.0225183367729187\n",
      "Step 2330, Loss 0.03127312660217285\n",
      "Step 2335, Loss 0.024554967880249023\n",
      "Starting epoch 27/30, LR = [0.005000000000000001]\n",
      "Step 2340, Loss 0.03629171848297119\n",
      "Step 2345, Loss 0.018157899379730225\n",
      "Step 2350, Loss 0.018834680318832397\n",
      "Step 2355, Loss 0.029652267694473267\n",
      "Step 2360, Loss 0.039946794509887695\n",
      "Step 2365, Loss 0.03181484341621399\n",
      "Step 2370, Loss 0.008744925260543823\n",
      "Step 2375, Loss 0.05223092436790466\n",
      "Step 2380, Loss 0.10316035151481628\n",
      "Step 2385, Loss 0.038657158613204956\n",
      "Step 2390, Loss 0.04236119985580444\n",
      "Step 2395, Loss 0.09474983811378479\n",
      "Step 2400, Loss 0.01251956820487976\n",
      "Step 2405, Loss 0.018605291843414307\n",
      "Step 2410, Loss 0.04402661323547363\n",
      "Step 2415, Loss 0.03073519468307495\n",
      "Step 2420, Loss 0.04083818197250366\n",
      "Step 2425, Loss 0.10477370023727417\n",
      "Starting epoch 28/30, LR = [0.005000000000000001]\n",
      "Step 2430, Loss 0.045751333236694336\n",
      "Step 2435, Loss 0.021993637084960938\n",
      "Step 2440, Loss 0.030967682600021362\n",
      "Step 2445, Loss 0.12107351422309875\n",
      "Step 2450, Loss 0.06931206583976746\n",
      "Step 2455, Loss 0.013878315687179565\n",
      "Step 2460, Loss 0.02825799584388733\n",
      "Step 2465, Loss 0.03247201442718506\n",
      "Step 2470, Loss 0.0211961567401886\n",
      "Step 2475, Loss 0.045465677976608276\n",
      "Step 2480, Loss 0.044367194175720215\n",
      "Step 2485, Loss 0.036084920167922974\n",
      "Step 2490, Loss 0.011440277099609375\n",
      "Step 2495, Loss 0.034003883600234985\n",
      "Step 2500, Loss 0.030531227588653564\n",
      "Step 2505, Loss 0.03871285915374756\n",
      "Step 2510, Loss 0.021398335695266724\n",
      "Step 2515, Loss 0.11988657712936401\n",
      "Starting epoch 29/30, LR = [0.005000000000000001]\n",
      "Step 2520, Loss 0.007822692394256592\n",
      "Step 2525, Loss 0.013028472661972046\n",
      "Step 2530, Loss 0.018273353576660156\n",
      "Step 2535, Loss 0.054580509662628174\n",
      "Step 2540, Loss 0.009289354085922241\n",
      "Step 2545, Loss 0.016005873680114746\n",
      "Step 2550, Loss 0.018132001161575317\n",
      "Step 2555, Loss 0.023360013961791992\n",
      "Step 2560, Loss 0.03516209125518799\n",
      "Step 2565, Loss 0.04043620824813843\n",
      "Step 2570, Loss 0.011685311794281006\n",
      "Step 2575, Loss 0.024858742952346802\n",
      "Step 2580, Loss 0.02309596538543701\n",
      "Step 2585, Loss 0.02859210968017578\n",
      "Step 2590, Loss 0.04199296236038208\n",
      "Step 2595, Loss 0.015760093927383423\n",
      "Step 2600, Loss 0.008027702569961548\n",
      "Step 2605, Loss 0.013059645891189575\n",
      "Starting epoch 30/30, LR = [0.005000000000000001]\n",
      "Step 2610, Loss 0.030310869216918945\n",
      "Step 2615, Loss 0.013635635375976562\n",
      "Step 2620, Loss 0.03712126612663269\n",
      "Step 2625, Loss 0.0185052752494812\n",
      "Step 2630, Loss 0.02119302749633789\n",
      "Step 2635, Loss 0.08802074193954468\n",
      "Step 2640, Loss 0.016103267669677734\n",
      "Step 2645, Loss 0.01797136664390564\n",
      "Step 2650, Loss 0.015873342752456665\n",
      "Step 2655, Loss 0.02320989966392517\n",
      "Step 2660, Loss 0.016849428415298462\n",
      "Step 2665, Loss 0.07947662472724915\n",
      "Step 2670, Loss 0.020561248064041138\n",
      "Step 2675, Loss 0.006768345832824707\n",
      "Step 2680, Loss 0.049699991941452026\n",
      "Step 2685, Loss 0.01767653226852417\n",
      "Step 2690, Loss 0.022892385721206665\n",
      "Step 2695, Loss 0.04337766766548157\n"
     ]
    }
   ],
   "source": [
    "# By default, everything is loaded to cpu\n",
    "net = net.to(DEVICE) # this will bring the network to GPU if DEVICE is cuda\n",
    "\n",
    "cudnn.benchmark # Calling this optimizes runtime\n",
    "\n",
    "current_step = 0\n",
    "\n",
    "val_accuracies = []\n",
    "val_losses = []\n",
    "train_accuracies = []\n",
    "train_losses = []\n",
    "\n",
    "# Start iterating over the epochs\n",
    "for epoch in range(NUM_EPOCHS):\n",
    "  print('Starting epoch {}/{}, LR = {}'.format(epoch+1, NUM_EPOCHS, scheduler.get_last_lr()))\n",
    "\n",
    "  # Iterate over the dataset\n",
    "  for images, labels in train_dataloader:\n",
    "    aug_images = []\n",
    "\n",
    "    for image in images:\n",
    "      aug_image = aug_pipeline(image) \n",
    "      aug_images.append(aug_image) \n",
    "\n",
    "    aug_images = torch.stack(aug_images)\n",
    "\n",
    "    # Bring data over the device of choice\n",
    "    aug_images = aug_images.to(DEVICE)\n",
    "    labels = labels.to(DEVICE)\n",
    "\n",
    "    net.train() # Sets module in training mode\n",
    "\n",
    "    optimizer.zero_grad() # Zero-ing the gradients\n",
    "\n",
    "    # Forward pass to the network\n",
    "    outputs = net(aug_images)\n",
    "\n",
    "    # Compute loss based on output and ground truth\n",
    "    loss = criterion(outputs, labels)\n",
    "\n",
    "    # Log loss\n",
    "    if current_step % LOG_FREQUENCY == 0:\n",
    "      print('Step {}, Loss {}'.format(current_step, loss.item()))\n",
    "\n",
    "    # Compute gradients for each layer and update weights\n",
    "    loss.backward()  # backward pass: computes gradients\n",
    "    optimizer.step() # update weights based on accumulated gradients\n",
    "\n",
    "    current_step += 1\n",
    "\n",
    "  train_acc, train_loss = evaluate(net, train_dataloader, print_tqdm = False)\n",
    "  train_accuracies.append(train_acc)\n",
    "  train_losses.append(train_loss)\n",
    "  \n",
    "  val_acc, val_loss = evaluate(net, val_dataloader, print_tqdm = False)\n",
    "  val_accuracies.append(val_acc)\n",
    "  val_losses.append(val_loss)\n",
    "\n",
    "  # Step the scheduler\n",
    "  scheduler.step() "
   ]
  },
  {
   "cell_type": "code",
   "execution_count": 15,
   "metadata": {
    "colab": {},
    "colab_type": "code",
    "id": "lqG2vNpvEiWi"
   },
   "outputs": [
    {
     "name": "stdout",
     "output_type": "stream",
     "text": [
      "Best accuracies on the validation set:  0.5992392807745505\n"
     ]
    },
    {
     "data": {
      "text/plain": [
       "<AxesSubplot:xlabel='epoch'>"
      ]
     },
     "execution_count": 15,
     "metadata": {},
     "output_type": "execute_result"
    },
    {
     "data": {
      "image/png": "[encoded data removed]",
      "text/plain": [
       "<Figure size 432x288 with 1 Axes>"
      ]
     },
     "metadata": {
      "needs_background": "light"
     },
     "output_type": "display_data"
    },
    {
     "data": {
      "image/png": "[encoded data removed]",
      "text/plain": [
       "<Figure size 432x288 with 1 Axes>"
      ]
     },
     "metadata": {
      "needs_background": "light"
     },
     "output_type": "display_data"
    }
   ],
   "source": [
    "import pandas as pd\n",
    "import matplotlib.pyplot as plt\n",
    "\n",
    "print(\"Best accuracies on the validation set: \", val_acc)\n",
    "\n",
    "results_df = pd.DataFrame(zip(range(1,NUM_EPOCHS+1), train_accuracies, val_accuracies, train_losses, val_losses), columns = [\"epoch\", \"train_accuracy\", \"val_accuracy\", \"train_loss\", \"val_loss\"])\n",
    "results_df.set_index(\"epoch\")\n",
    "results_df.plot(x = \"epoch\", y = [\"train_accuracy\", \"val_accuracy\"])\n",
    "results_df.plot(x = \"epoch\", y = [\"train_loss\", \"val_loss\"])\n"
   ]
  },
  {
   "cell_type": "markdown",
   "metadata": {
    "colab_type": "text",
    "id": "jxekmR745ySe"
   },
   "source": [
    "**Test**"
   ]
  },
  {
   "cell_type": "code",
   "execution_count": 16,
   "metadata": {
    "colab": {},
    "colab_type": "code",
    "id": "fSHcUqLB5yWO"
   },
   "outputs": [
    {
     "name": "stderr",
     "output_type": "stream",
     "text": [
      "100%|██████████| 91/91 [00:17<00:00,  5.25it/s]"
     ]
    },
    {
     "name": "stdout",
     "output_type": "stream",
     "text": [
      "\n",
      "Test Accuracy: 0.5948842032492223\n"
     ]
    },
    {
     "name": "stderr",
     "output_type": "stream",
     "text": [
      "\n"
     ]
    }
   ],
   "source": [
    "accuracy = evaluate(net, test_dataloader)[0]\n",
    "print('\\nTest Accuracy: {}'.format(accuracy))"
   ]
  }
 ],
 "metadata": {
  "accelerator": "GPU",
  "colab": {
   "collapsed_sections": [],
   "name": "Homework2.ipynb",
   "provenance": [
    {
     "file_id": "1495rzqiMxfqwqBjaanDwDGN7eOS4oXRX",
     "timestamp": 1587905492289
    },
    {
     "file_id": "1PhNPpklp9FbxJEtsZ8Jp9qXQa4aZDK5Y",
     "timestamp": 1586854223220
    }
   ]
  },
  "kernelspec": {
   "display_name": "Python 3",
   "language": "python",
   "name": "python3"
  },
  "language_info": {
   "codemirror_mode": {
    "name": "ipython",
    "version": 3
   },
   "file_extension": ".py",
   "mimetype": "text/x-python",
   "name": "python",
   "nbconvert_exporter": "python",
   "pygments_lexer": "ipython3",
   "version": "3.6.12"
  }
 },
 "nbformat": 4,
 "nbformat_minor": 1
}
